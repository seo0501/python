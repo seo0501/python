{
  "nbformat": 4,
  "nbformat_minor": 0,
  "metadata": {
    "colab": {
      "provenance": [],
      "authorship_tag": "ABX9TyMXdW9BiuqwG4wXz/7kBkOn",
      "include_colab_link": true
    },
    "kernelspec": {
      "name": "python3",
      "display_name": "Python 3"
    },
    "language_info": {
      "name": "python"
    }
  },
  "cells": [
    {
      "cell_type": "markdown",
      "metadata": {
        "id": "view-in-github",
        "colab_type": "text"
      },
      "source": [
        "<a href=\"https://colab.research.google.com/github/seo0501/python-study/blob/main/03.%EC%A0%9C%EC%96%B4%EB%AC%B8/03_1_if%EB%AC%B8.ipynb\" target=\"_parent\"><img src=\"https://colab.research.google.com/assets/colab-badge.svg\" alt=\"Open In Colab\"/></a>"
      ]
    },
    {
      "cell_type": "markdown",
      "source": [
        "# if문은 왜 필요할까?"
      ],
      "metadata": {
        "id": "H5kcFATSGdkN"
      }
    },
    {
      "cell_type": "code",
      "execution_count": 1,
      "metadata": {
        "colab": {
          "base_uri": "https://localhost:8080/"
        },
        "id": "TfVPECF2GYPy",
        "outputId": "ba994357-757c-45f5-b490-3b5979bdbab8"
      },
      "outputs": [
        {
          "output_type": "stream",
          "name": "stdout",
          "text": [
            "택시를 타고 가라\n"
          ]
        }
      ],
      "source": [
        "money = True\n",
        "if money:\n",
        "  print(\"택시를 타고 가라\")\n",
        "else:\n",
        "  print(\"걸어 가라\")"
      ]
    },
    {
      "cell_type": "markdown",
      "source": [
        "# if문의 기본 구조 "
      ],
      "metadata": {
        "id": "a0rMoVqrGuMS"
      }
    },
    {
      "cell_type": "markdown",
      "source": [
        "**if** 조건문:  \n",
        "  수행할 문장1  \n",
        "  수행할 문장2  \n",
        "  ...  \n",
        "**else**:  \n",
        "  수행할 문장A  \n",
        "  수행할 문장B  \n",
        "  ... "
      ],
      "metadata": {
        "id": "-zkAsKwWG0HW"
      }
    },
    {
      "cell_type": "code",
      "source": [
        "money = True\n",
        "if money:\n",
        "  print(\"택시를\")\n",
        "print(\"타고\")\n",
        "  print(\"가라\")"
      ],
      "metadata": {
        "colab": {
          "base_uri": "https://localhost:8080/",
          "height": 136
        },
        "id": "1kNI08_SGsg-",
        "outputId": "b5d921f1-4402-49bd-be8f-bfaad4613861"
      },
      "execution_count": 2,
      "outputs": [
        {
          "output_type": "error",
          "ename": "IndentationError",
          "evalue": "ignored",
          "traceback": [
            "\u001b[0;36m  File \u001b[0;32m\"<ipython-input-2-e07d67983a1d>\"\u001b[0;36m, line \u001b[0;32m5\u001b[0m\n\u001b[0;31m    print(\"가라\")\u001b[0m\n\u001b[0m    ^\u001b[0m\n\u001b[0;31mIndentationError\u001b[0m\u001b[0;31m:\u001b[0m unexpected indent\n"
          ]
        }
      ]
    },
    {
      "cell_type": "code",
      "source": [
        "money = True\n",
        "if money:\n",
        "  print(\"택시를\")\n",
        "  print(\"타고\")\n",
        "    print(\"가라\") "
      ],
      "metadata": {
        "colab": {
          "base_uri": "https://localhost:8080/",
          "height": 136
        },
        "id": "ORZy1WOZHYEQ",
        "outputId": "a0a4e0a6-a47a-48c8-c038-0e0985f37ef4"
      },
      "execution_count": 3,
      "outputs": [
        {
          "output_type": "error",
          "ename": "IndentationError",
          "evalue": "ignored",
          "traceback": [
            "\u001b[0;36m  File \u001b[0;32m\"<ipython-input-3-29cf94621a08>\"\u001b[0;36m, line \u001b[0;32m5\u001b[0m\n\u001b[0;31m    print(\"가라\")\u001b[0m\n\u001b[0m    ^\u001b[0m\n\u001b[0;31mIndentationError\u001b[0m\u001b[0;31m:\u001b[0m unexpected indent\n"
          ]
        }
      ]
    },
    {
      "cell_type": "markdown",
      "source": [
        "# 조건문이란 무엇인가? "
      ],
      "metadata": {
        "id": "z4Tc09vnH37_"
      }
    },
    {
      "cell_type": "markdown",
      "source": [
        "## 비교 연산자 "
      ],
      "metadata": {
        "id": "0aDrBkPiH69U"
      }
    },
    {
      "cell_type": "markdown",
      "source": [
        "![image.png](data:image/png;base64,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)"
      ],
      "metadata": {
        "id": "HevEYXT6H-9n"
      }
    },
    {
      "cell_type": "code",
      "source": [
        "x = 3\n",
        "y = 2\n",
        "print(x > y)\n",
        "print(x < y)\n",
        "print(x == y)\n",
        "print(x != y)"
      ],
      "metadata": {
        "colab": {
          "base_uri": "https://localhost:8080/"
        },
        "id": "5HJfPbLHHb0T",
        "outputId": "41f4e3c1-4062-4d28-9dd3-de34c446e1a9"
      },
      "execution_count": 6,
      "outputs": [
        {
          "output_type": "stream",
          "name": "stdout",
          "text": [
            "True\n",
            "False\n",
            "False\n",
            "True\n"
          ]
        }
      ]
    },
    {
      "cell_type": "code",
      "source": [
        "money = 2000\n",
        "if money >= 3000:\n",
        "  print(\"택시를 타고 가라\")\n",
        "else:\n",
        "  print(\"걸어 가라\")"
      ],
      "metadata": {
        "colab": {
          "base_uri": "https://localhost:8080/"
        },
        "id": "vCf6G26VIGF5",
        "outputId": "e4c40132-0ac1-4edd-ff57-bd03c3bbbe40"
      },
      "execution_count": 7,
      "outputs": [
        {
          "output_type": "stream",
          "name": "stdout",
          "text": [
            "걸어 가라\n"
          ]
        }
      ]
    },
    {
      "cell_type": "markdown",
      "source": [
        "## and, or, not "
      ],
      "metadata": {
        "id": "NUebiSMBIf5H"
      }
    },
    {
      "cell_type": "markdown",
      "source": [
        "![image.png](data:image/png;base64,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)"
      ],
      "metadata": {
        "id": "QrJWXRldIoq4"
      }
    },
    {
      "cell_type": "code",
      "source": [
        "money = 2000\n",
        "card = True\n",
        "if money >= 3000 or card:\n",
        "  print(\"택시를 타고 가라\")\n",
        "else:\n",
        "  print(\"걸어 가라\")"
      ],
      "metadata": {
        "colab": {
          "base_uri": "https://localhost:8080/"
        },
        "id": "lYWUi2LxIJKr",
        "outputId": "a98574dd-6b39-46aa-da56-3c802eca054f"
      },
      "execution_count": 8,
      "outputs": [
        {
          "output_type": "stream",
          "name": "stdout",
          "text": [
            "택시를 타고 가라\n"
          ]
        }
      ]
    },
    {
      "cell_type": "markdown",
      "source": [
        "## x in s, x not in s"
      ],
      "metadata": {
        "id": "Px70IC8VL3He"
      }
    },
    {
      "cell_type": "markdown",
      "source": [
        "![image.png](data:image/png;base64,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)"
      ],
      "metadata": {
        "id": "MT7H7JDsMEhM"
      }
    },
    {
      "cell_type": "code",
      "source": [
        "print(1 in [1, 2, 3])\n",
        "print(1 not in [1, 2, 3])"
      ],
      "metadata": {
        "colab": {
          "base_uri": "https://localhost:8080/"
        },
        "id": "clemuxVQL1VI",
        "outputId": "af5c2cd9-bb8c-4b72-b5e5-134e161ffaa9"
      },
      "execution_count": 9,
      "outputs": [
        {
          "output_type": "stream",
          "name": "stdout",
          "text": [
            "True\n",
            "False\n"
          ]
        }
      ]
    },
    {
      "cell_type": "code",
      "source": [
        "print('a' in ('a', 'b', 'c'))\n",
        "print('j' not in 'python')"
      ],
      "metadata": {
        "colab": {
          "base_uri": "https://localhost:8080/"
        },
        "id": "JfjFVU9WMUeb",
        "outputId": "fac14614-e044-49a9-b031-c3fc50b52267"
      },
      "execution_count": 10,
      "outputs": [
        {
          "output_type": "stream",
          "name": "stdout",
          "text": [
            "True\n",
            "True\n"
          ]
        }
      ]
    },
    {
      "cell_type": "code",
      "source": [
        "pocket = ['paper', 'cellphone', 'money']\n",
        "if 'money' in pocket:\n",
        "  print(\"택시를 타고 가라\")\n",
        "else:\n",
        "  print(\"걸어 가라\")"
      ],
      "metadata": {
        "colab": {
          "base_uri": "https://localhost:8080/"
        },
        "id": "10tACfa1MfPV",
        "outputId": "666bbb7f-9808-441c-8e17-dadc890895ea"
      },
      "execution_count": 11,
      "outputs": [
        {
          "output_type": "stream",
          "name": "stdout",
          "text": [
            "택시를 타고 가라\n"
          ]
        }
      ]
    },
    {
      "cell_type": "code",
      "source": [
        "pocket = ['paper', 'cellphone', 'money']\n",
        "if 'card' not in pocket:\n",
        "  print(\"걸어 가라\")\n",
        "else:\n",
        "  print(\"택시를 타고 가라\")"
      ],
      "metadata": {
        "colab": {
          "base_uri": "https://localhost:8080/"
        },
        "id": "Cd7bi_-tMule",
        "outputId": "ed0ef609-9a5f-4845-be6f-efee51c50724"
      },
      "execution_count": 12,
      "outputs": [
        {
          "output_type": "stream",
          "name": "stdout",
          "text": [
            "걸어 가라\n"
          ]
        }
      ]
    },
    {
      "cell_type": "code",
      "source": [
        "pocket = ['paper', 'cellphone', 'money']\n",
        "if 'money' in pocket:\n",
        "  pass\n",
        "else:\n",
        "  print(\"카드를 꺼내라\")"
      ],
      "metadata": {
        "id": "-V4UKiJtM9mQ"
      },
      "execution_count": 13,
      "outputs": []
    },
    {
      "cell_type": "markdown",
      "source": [
        "# 다양한 조건을 판단하는 elif "
      ],
      "metadata": {
        "id": "qaLIxhP6NEqy"
      }
    },
    {
      "cell_type": "code",
      "source": [
        "pocket = ['paper', 'cellphone']\n",
        "card = True\n",
        "if 'money' in pocket:\n",
        "  print(\"택시를 타고 가라\")\n",
        "else:\n",
        "  if card:\n",
        "    print(\"택시를 타고 가라\")\n",
        "  else:\n",
        "    print(\"걸어 가라\")"
      ],
      "metadata": {
        "colab": {
          "base_uri": "https://localhost:8080/"
        },
        "id": "WhKC-bplNDSg",
        "outputId": "c511b587-281b-4db4-d571-f07e6cf78bb9"
      },
      "execution_count": 14,
      "outputs": [
        {
          "output_type": "stream",
          "name": "stdout",
          "text": [
            "택시를 타고 가라\n"
          ]
        }
      ]
    },
    {
      "cell_type": "code",
      "source": [
        "pocket = ['paper', 'cellphone']\n",
        "card = True\n",
        "if 'money' in pocket:\n",
        "  print(\"택시를 타고 가라\")\n",
        "elif card:\n",
        "  print(\"택시를 타고 가라\")\n",
        "else:\n",
        "  print(\"걸어 가라\")"
      ],
      "metadata": {
        "colab": {
          "base_uri": "https://localhost:8080/"
        },
        "id": "gzmzZ7CANifE",
        "outputId": "cf4cc0d5-b25a-41b3-f90a-5b9574a07f7e"
      },
      "execution_count": 15,
      "outputs": [
        {
          "output_type": "stream",
          "name": "stdout",
          "text": [
            "택시를 타고 가라\n"
          ]
        }
      ]
    },
    {
      "cell_type": "code",
      "source": [
        "pocket = ['paper', 'cellphone', 'money']\n",
        "if 'money' in pocket: pass\n",
        "else: print(\"카드를 꺼내라\")"
      ],
      "metadata": {
        "id": "7cC3bX61NqAa"
      },
      "execution_count": 16,
      "outputs": []
    },
    {
      "cell_type": "markdown",
      "source": [
        "# 조건부 표현식 "
      ],
      "metadata": {
        "id": "SHPiU8zWN3Tc"
      }
    },
    {
      "cell_type": "code",
      "source": [
        "if score >= 60:\n",
        "  message = \"success\"\n",
        "else: \n",
        "  message = \"failure\""
      ],
      "metadata": {
        "id": "er7nviIIN1Nu"
      },
      "execution_count": null,
      "outputs": []
    },
    {
      "cell_type": "code",
      "source": [
        "message = \"success\" if score >= 60 else \"failure\""
      ],
      "metadata": {
        "id": "sT1X-0iBOJgy"
      },
      "execution_count": null,
      "outputs": []
    }
  ]
}