{
  "nbformat": 4,
  "nbformat_minor": 0,
  "metadata": {
    "colab": {
      "provenance": [],
      "authorship_tag": "ABX9TyPRjXVD7gZaGgs9s9s8K0w9",
      "include_colab_link": true
    },
    "kernelspec": {
      "name": "python3",
      "display_name": "Python 3"
    },
    "language_info": {
      "name": "python"
    }
  },
  "cells": [
    {
      "cell_type": "markdown",
      "metadata": {
        "id": "view-in-github",
        "colab_type": "text"
      },
      "source": [
        "<a href=\"https://colab.research.google.com/github/seo0501/python-study/blob/main/03.%EC%A0%9C%EC%96%B4%EB%AC%B8/03_3_for%EB%AC%B8.ipynb\" target=\"_parent\"><img src=\"https://colab.research.google.com/assets/colab-badge.svg\" alt=\"Open In Colab\"/></a>"
      ]
    },
    {
      "cell_type": "markdown",
      "source": [
        "# for문의 기본 구조 "
      ],
      "metadata": {
        "id": "mD3iMW7ifR9a"
      }
    },
    {
      "cell_type": "markdown",
      "source": [
        "**for** 변수 **in** 리스트(또는 튜플, 문자열):  \n",
        "  수행할 문장1  \n",
        "  수행할 문장2  \n",
        "  ... "
      ],
      "metadata": {
        "id": "McWwxUv6fWXd"
      }
    },
    {
      "cell_type": "code",
      "execution_count": 1,
      "metadata": {
        "colab": {
          "base_uri": "https://localhost:8080/"
        },
        "id": "nPp_8-5jfOXM",
        "outputId": "5b107b0e-1a47-473b-a528-e5428e3cf3f4"
      },
      "outputs": [
        {
          "output_type": "stream",
          "name": "stdout",
          "text": [
            "one\n",
            "two\n",
            "three\n"
          ]
        }
      ],
      "source": [
        "# 전형적인 for문\n",
        "test_list = ['one', 'two', 'three']\n",
        "for i in test_list:\n",
        "  print(i)"
      ]
    },
    {
      "cell_type": "code",
      "source": [
        "# 다양한 for문의 사용\n",
        "a = [(1, 2), (3, 4), (5, 6)]\n",
        "for (first, last) in a:\n",
        "  print(first + last)"
      ],
      "metadata": {
        "colab": {
          "base_uri": "https://localhost:8080/"
        },
        "id": "XwUSP_fTgEr7",
        "outputId": "d60f6088-b5ba-444d-b7a8-8882ec093559"
      },
      "execution_count": 2,
      "outputs": [
        {
          "output_type": "stream",
          "name": "stdout",
          "text": [
            "3\n",
            "7\n",
            "11\n"
          ]
        }
      ]
    },
    {
      "cell_type": "code",
      "source": [
        "# for문의 응용\n",
        "marks = [90, 25, 67, 45, 80]\n",
        "number = 0\n",
        "for mark in marks:\n",
        "  number = number + 1\n",
        "  if mark >= 60:\n",
        "    print(\"%d번 학생은 합격입니다.\" %number)\n",
        "  else:\n",
        "    print(\"%d번 학생은 불합격입니다.\" %number)"
      ],
      "metadata": {
        "colab": {
          "base_uri": "https://localhost:8080/"
        },
        "id": "scwetrZQg1Ox",
        "outputId": "f057d59a-c037-43f1-fcb6-2d985cdca7e9"
      },
      "execution_count": 3,
      "outputs": [
        {
          "output_type": "stream",
          "name": "stdout",
          "text": [
            "1번 학생은 합격입니다.\n",
            "2번 학생은 불합격입니다.\n",
            "3번 학생은 합격입니다.\n",
            "4번 학생은 불합격입니다.\n",
            "5번 학생은 합격입니다.\n"
          ]
        }
      ]
    },
    {
      "cell_type": "markdown",
      "source": [
        "# for문과 continue문 "
      ],
      "metadata": {
        "id": "yzXoXsVjhVfq"
      }
    },
    {
      "cell_type": "code",
      "source": [
        "marks = [90, 25, 67, 45, 80]\n",
        "number = 0\n",
        "for mark in marks:\n",
        "  number = number + 1\n",
        "  if mark < 60: continue\n",
        "  print(\"%d번 학생 축하합니다. 합격입니다.\" %number)"
      ],
      "metadata": {
        "colab": {
          "base_uri": "https://localhost:8080/"
        },
        "id": "ur0egUHJhQgN",
        "outputId": "e55f22f6-b909-4b4d-d8ff-add923cfd261"
      },
      "execution_count": 4,
      "outputs": [
        {
          "output_type": "stream",
          "name": "stdout",
          "text": [
            "1번 학생 축하합니다. 합격입니다.\n",
            "3번 학생 축하합니다. 합격입니다.\n",
            "5번 학생 축하합니다. 합격입니다.\n"
          ]
        }
      ]
    },
    {
      "cell_type": "markdown",
      "source": [
        "# for문과 함께 자주 사용하는 range 함수 "
      ],
      "metadata": {
        "id": "KZ5FbqwjhsH_"
      }
    },
    {
      "cell_type": "code",
      "source": [
        "a = range(10)\n",
        "a"
      ],
      "metadata": {
        "colab": {
          "base_uri": "https://localhost:8080/"
        },
        "id": "vtHcG1YyhwK9",
        "outputId": "c64c34e9-c903-4df2-a411-d2d6292c5c51"
      },
      "execution_count": 5,
      "outputs": [
        {
          "output_type": "execute_result",
          "data": {
            "text/plain": [
              "range(0, 10)"
            ]
          },
          "metadata": {},
          "execution_count": 5
        }
      ]
    },
    {
      "cell_type": "code",
      "source": [
        "add = 0\n",
        "for i in range(1, 11):\n",
        "  add = add + i\n",
        "print(add)"
      ],
      "metadata": {
        "colab": {
          "base_uri": "https://localhost:8080/"
        },
        "id": "Uf_gfFWlhzrt",
        "outputId": "d09e8ed0-598a-417b-e401-83a4dfbd6682"
      },
      "execution_count": 6,
      "outputs": [
        {
          "output_type": "stream",
          "name": "stdout",
          "text": [
            "55\n"
          ]
        }
      ]
    },
    {
      "cell_type": "code",
      "source": [
        "marks = [90, 25, 67, 45, 80]\n",
        "number = 0\n",
        "for number in range(len(marks)):\n",
        "  if marks[number] < 60: continue\n",
        "  print(\"%d번 학생 축하합니다. 합격입니다.\" %(number + 1))"
      ],
      "metadata": {
        "colab": {
          "base_uri": "https://localhost:8080/"
        },
        "id": "MNwkOK7mh-ae",
        "outputId": "ed0ee680-17a0-42f2-c45b-0d779c2c214e"
      },
      "execution_count": 8,
      "outputs": [
        {
          "output_type": "stream",
          "name": "stdout",
          "text": [
            "1번 학생 축하합니다. 합격입니다.\n",
            "3번 학생 축하합니다. 합격입니다.\n",
            "5번 학생 축하합니다. 합격입니다.\n"
          ]
        }
      ]
    },
    {
      "cell_type": "code",
      "source": [
        "add = 0\n",
        "for i in range(1, 101):\n",
        "  add = add + i\n",
        "print(add)"
      ],
      "metadata": {
        "colab": {
          "base_uri": "https://localhost:8080/"
        },
        "id": "IGFy-R69iQiR",
        "outputId": "547cefe5-638a-44ce-b9a2-f61ac6ba686f"
      },
      "execution_count": 9,
      "outputs": [
        {
          "output_type": "stream",
          "name": "stdout",
          "text": [
            "5050\n"
          ]
        }
      ]
    },
    {
      "cell_type": "code",
      "source": [
        "for i in range(2, 10):\n",
        "  for j in range(1, 10):\n",
        "    print(i * j, end = \" \") # 매개변수 end: 해당 결괏값을 출력할 때 다음 줄로 넘기지 않고 그 줄에 계속해서 출력하기 위함 \n",
        "  print('')"
      ],
      "metadata": {
        "colab": {
          "base_uri": "https://localhost:8080/"
        },
        "id": "rqFmuz-3iZL8",
        "outputId": "4a9a53ce-918f-4567-d64a-e5fbe7afc048"
      },
      "execution_count": 10,
      "outputs": [
        {
          "output_type": "stream",
          "name": "stdout",
          "text": [
            "2 4 6 8 10 12 14 16 18 \n",
            "3 6 9 12 15 18 21 24 27 \n",
            "4 8 12 16 20 24 28 32 36 \n",
            "5 10 15 20 25 30 35 40 45 \n",
            "6 12 18 24 30 36 42 48 54 \n",
            "7 14 21 28 35 42 49 56 63 \n",
            "8 16 24 32 40 48 56 64 72 \n",
            "9 18 27 36 45 54 63 72 81 \n"
          ]
        }
      ]
    },
    {
      "cell_type": "markdown",
      "source": [
        "# 리스트 내포 사용하기 "
      ],
      "metadata": {
        "id": "wyWegOuni5H7"
      }
    },
    {
      "cell_type": "markdown",
      "source": [
        "[표현식 for 항목 in 반복 가능 객체 if 조건]  \n",
        "\n",
        "[표현식 for 항목 in 반복 가능 객체 if 조건1  \n",
        "       for 항목 in 반복 가능 객체 if 조건2  \n",
        "       ...  \n",
        "       for 항목 in 반복 가능 객체 if 조건n]"
      ],
      "metadata": {
        "id": "Ydbd9kOujUyI"
      }
    },
    {
      "cell_type": "code",
      "source": [
        "a = [1, 2, 3, 4]\n",
        "result = []\n",
        "for num in a:\n",
        "  result.append(num * 3)\n",
        "print(result)"
      ],
      "metadata": {
        "colab": {
          "base_uri": "https://localhost:8080/"
        },
        "id": "5Xb7iJ22iqhe",
        "outputId": "6a0006d6-ffb4-4251-975b-8559c7bfa469"
      },
      "execution_count": 11,
      "outputs": [
        {
          "output_type": "stream",
          "name": "stdout",
          "text": [
            "[3, 6, 9, 12]\n"
          ]
        }
      ]
    },
    {
      "cell_type": "code",
      "source": [
        "a = [1, 2, 3, 4]\n",
        "result = [num * 3 for num in a]\n",
        "print(result)"
      ],
      "metadata": {
        "colab": {
          "base_uri": "https://localhost:8080/"
        },
        "id": "JEuQVBz6jFyR",
        "outputId": "4f424861-9242-44dc-c635-e6cd60fdbdf9"
      },
      "execution_count": 12,
      "outputs": [
        {
          "output_type": "stream",
          "name": "stdout",
          "text": [
            "[3, 6, 9, 12]\n"
          ]
        }
      ]
    },
    {
      "cell_type": "code",
      "source": [
        "a = [1, 2, 3, 4]\n",
        "result = [num * 3 for num in a if num % 2 == 0]\n",
        "print(result)"
      ],
      "metadata": {
        "colab": {
          "base_uri": "https://localhost:8080/"
        },
        "id": "uOB25uEkjSeF",
        "outputId": "b9ce5ebe-5fbf-49ae-cc94-530faecd6722"
      },
      "execution_count": 13,
      "outputs": [
        {
          "output_type": "stream",
          "name": "stdout",
          "text": [
            "[6, 12]\n"
          ]
        }
      ]
    },
    {
      "cell_type": "code",
      "source": [
        "result = [x * y for x in range(2, 10)\n",
        "          for y in range(1, 10)]\n",
        "print(result)"
      ],
      "metadata": {
        "colab": {
          "base_uri": "https://localhost:8080/"
        },
        "id": "Csih8QaNj5JI",
        "outputId": "6a690cd2-e6ca-4dde-9f5c-ed6b5c8139d7"
      },
      "execution_count": 14,
      "outputs": [
        {
          "output_type": "stream",
          "name": "stdout",
          "text": [
            "[2, 4, 6, 8, 10, 12, 14, 16, 18, 3, 6, 9, 12, 15, 18, 21, 24, 27, 4, 8, 12, 16, 20, 24, 28, 32, 36, 5, 10, 15, 20, 25, 30, 35, 40, 45, 6, 12, 18, 24, 30, 36, 42, 48, 54, 7, 14, 21, 28, 35, 42, 49, 56, 63, 8, 16, 24, 32, 40, 48, 56, 64, 72, 9, 18, 27, 36, 45, 54, 63, 72, 81]\n"
          ]
        }
      ]
    }
  ]
}