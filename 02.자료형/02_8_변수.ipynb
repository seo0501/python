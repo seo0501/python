{
  "nbformat": 4,
  "nbformat_minor": 0,
  "metadata": {
    "colab": {
      "provenance": [],
      "authorship_tag": "ABX9TyNSXPjEMZoQRhb1ZcREiAW+",
      "include_colab_link": true
    },
    "kernelspec": {
      "name": "python3",
      "display_name": "Python 3"
    },
    "language_info": {
      "name": "python"
    }
  },
  "cells": [
    {
      "cell_type": "markdown",
      "metadata": {
        "id": "view-in-github",
        "colab_type": "text"
      },
      "source": [
        "<a href=\"https://colab.research.google.com/github/seo0501/python-study/blob/main/02.%EC%9E%90%EB%A3%8C%ED%98%95/02_8_%EB%B3%80%EC%88%98.ipynb\" target=\"_parent\"><img src=\"https://colab.research.google.com/assets/colab-badge.svg\" alt=\"Open In Colab\"/></a>"
      ]
    },
    {
      "cell_type": "markdown",
      "source": [
        "# 변수란?"
      ],
      "metadata": {
        "id": "iozjZuwE9v8S"
      }
    },
    {
      "cell_type": "code",
      "execution_count": 2,
      "metadata": {
        "id": "orOPVbDz9phD"
      },
      "outputs": [],
      "source": [
        "a = [1, 2, 3]\n",
        "# 변수는 객체를 가리키는 것\n",
        "# [1, 2, 3] 값을 가지는 리스트 자료형(객체)이 자동으로 메모리에 생성되고 변수 a는 [1, 2, 3] 리스트가 저장된 메모리의 주소를 가리키게 된다. "
      ]
    },
    {
      "cell_type": "code",
      "source": [
        "# id 함수는 변수가 가리키고 있는 객체의 주소 값을 돌려주는 파이썬 내장 함수\n",
        "id(a)"
      ],
      "metadata": {
        "colab": {
          "base_uri": "https://localhost:8080/"
        },
        "id": "KEzk1AtV-L4f",
        "outputId": "7613944f-0b75-43df-fc12-17d7cd52665b"
      },
      "execution_count": 4,
      "outputs": [
        {
          "output_type": "execute_result",
          "data": {
            "text/plain": [
              "140157531942656"
            ]
          },
          "metadata": {},
          "execution_count": 4
        }
      ]
    },
    {
      "cell_type": "markdown",
      "source": [
        "# 리스트를 복사할 떄 "
      ],
      "metadata": {
        "id": "f6cGU3Fe-rI-"
      }
    },
    {
      "cell_type": "code",
      "source": [
        "a = [1, 2, 3]\n",
        "b =a\n",
        "print(id(a))\n",
        "print(id(b))"
      ],
      "metadata": {
        "colab": {
          "base_uri": "https://localhost:8080/"
        },
        "id": "51YbRl4z-bkV",
        "outputId": "3eb8f899-cad3-4291-b0a4-08ae1f0b4769"
      },
      "execution_count": 5,
      "outputs": [
        {
          "output_type": "stream",
          "name": "stdout",
          "text": [
            "140156837353600\n",
            "140156837353600\n"
          ]
        }
      ]
    },
    {
      "cell_type": "code",
      "source": [
        "# is는 동일한 객체를 가리키고 있는지에 대해서 판단하는 파이썬 명령어\n",
        "a is b"
      ],
      "metadata": {
        "colab": {
          "base_uri": "https://localhost:8080/"
        },
        "id": "WhC-Fh37-_6j",
        "outputId": "c2313e7c-4c34-4c8c-89d5-2d0b85ac3a7f"
      },
      "execution_count": 6,
      "outputs": [
        {
          "output_type": "execute_result",
          "data": {
            "text/plain": [
              "True"
            ]
          },
          "metadata": {},
          "execution_count": 6
        }
      ]
    },
    {
      "cell_type": "code",
      "source": [
        "a[1] = 4\n",
        "print(a)\n",
        "print(b)"
      ],
      "metadata": {
        "colab": {
          "base_uri": "https://localhost:8080/"
        },
        "id": "A_ldHRPj_JgL",
        "outputId": "0129dd1e-e189-466f-b676-fa66725bbfd4"
      },
      "execution_count": 7,
      "outputs": [
        {
          "output_type": "stream",
          "name": "stdout",
          "text": [
            "[1, 4, 3]\n",
            "[1, 4, 3]\n"
          ]
        }
      ]
    },
    {
      "cell_type": "markdown",
      "source": [
        "## 1. [:] 사용 "
      ],
      "metadata": {
        "id": "ivcelTFh_Umg"
      }
    },
    {
      "cell_type": "code",
      "source": [
        "a = [1, 2, 3]\n",
        "b = a[:]\n",
        "a[1] = 4\n",
        "print(a)\n",
        "print(b)"
      ],
      "metadata": {
        "colab": {
          "base_uri": "https://localhost:8080/"
        },
        "id": "JuK9RCZC_Qzo",
        "outputId": "01ee22d7-1548-4238-e84e-e593eb581b4e"
      },
      "execution_count": 8,
      "outputs": [
        {
          "output_type": "stream",
          "name": "stdout",
          "text": [
            "[1, 4, 3]\n",
            "[1, 2, 3]\n"
          ]
        }
      ]
    },
    {
      "cell_type": "markdown",
      "source": [
        "## copy 모듈 사용 "
      ],
      "metadata": {
        "id": "b-yifN8L_kjq"
      }
    },
    {
      "cell_type": "code",
      "source": [
        "from copy import copy\n",
        "a = [1, 2, 3]\n",
        "b = copy(a)\n",
        "print(a)\n",
        "print(b)\n",
        "b is a"
      ],
      "metadata": {
        "colab": {
          "base_uri": "https://localhost:8080/"
        },
        "id": "PevHBsE__iwg",
        "outputId": "681403d7-aecc-4bf1-ad16-f32e1a711f3e"
      },
      "execution_count": 9,
      "outputs": [
        {
          "output_type": "stream",
          "name": "stdout",
          "text": [
            "[1, 2, 3]\n",
            "[1, 2, 3]\n"
          ]
        },
        {
          "output_type": "execute_result",
          "data": {
            "text/plain": [
              "False"
            ]
          },
          "metadata": {},
          "execution_count": 9
        }
      ]
    },
    {
      "cell_type": "markdown",
      "source": [
        "# 변수를 만드는 여러가지 방법 "
      ],
      "metadata": {
        "id": "qMjTjq4t_2jj"
      }
    },
    {
      "cell_type": "code",
      "source": [
        "a, b = ('python', 'life')\n",
        "(a ,b) = 'python', 'life'"
      ],
      "metadata": {
        "id": "GP4WT2dd_xpi"
      },
      "execution_count": 11,
      "outputs": []
    },
    {
      "cell_type": "code",
      "source": [
        "[a, b] = ['python', 'life']"
      ],
      "metadata": {
        "id": "M72B6TvD__Sx"
      },
      "execution_count": 12,
      "outputs": []
    },
    {
      "cell_type": "code",
      "source": [
        "a = b ='python'"
      ],
      "metadata": {
        "id": "1Hp9rAfoARUH"
      },
      "execution_count": 13,
      "outputs": []
    },
    {
      "cell_type": "code",
      "source": [
        "a = 3\n",
        "b = 5\n",
        "a, b = b, a  #a와 b의 값을 바꿈\n",
        "print(a)\n",
        "print(b)"
      ],
      "metadata": {
        "colab": {
          "base_uri": "https://localhost:8080/"
        },
        "id": "14t1AzI7AUeK",
        "outputId": "e39f4541-f14d-4410-c1d9-dd01cc01422a"
      },
      "execution_count": 16,
      "outputs": [
        {
          "output_type": "stream",
          "name": "stdout",
          "text": [
            "5\n",
            "3\n"
          ]
        }
      ]
    },
    {
      "cell_type": "code",
      "source": [
        "a = [1, 2, 3]\n",
        "b = [1, 2, 3]\n",
        "print(a)\n",
        "print(b)\n",
        "print(a is b)"
      ],
      "metadata": {
        "colab": {
          "base_uri": "https://localhost:8080/"
        },
        "id": "918nfyIAAhco",
        "outputId": "4cb45895-4431-4d21-e029-79e808e3dcbb"
      },
      "execution_count": 19,
      "outputs": [
        {
          "output_type": "stream",
          "name": "stdout",
          "text": [
            "[1, 2, 3]\n",
            "[1, 2, 3]\n",
            "False\n"
          ]
        }
      ]
    }
  ]
}