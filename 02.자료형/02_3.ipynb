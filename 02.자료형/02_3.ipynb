{
  "nbformat": 4,
  "nbformat_minor": 0,
  "metadata": {
    "colab": {
      "provenance": [],
      "toc_visible": true,
      "authorship_tag": "ABX9TyNYvmr9SBBdcCbJjHqrzQ/m",
      "include_colab_link": true
    },
    "kernelspec": {
      "name": "python3",
      "display_name": "Python 3"
    },
    "language_info": {
      "name": "python"
    }
  },
  "cells": [
    {
      "cell_type": "markdown",
      "metadata": {
        "id": "view-in-github",
        "colab_type": "text"
      },
      "source": [
        "<a href=\"https://colab.research.google.com/github/seo0501/python-study/blob/main/02.%EC%9E%90%EB%A3%8C%ED%98%95/02_3.ipynb\" target=\"_parent\"><img src=\"https://colab.research.google.com/assets/colab-badge.svg\" alt=\"Open In Colab\"/></a>"
      ]
    },
    {
      "cell_type": "markdown",
      "source": [
        "# 리스트는 어떻게 만들고 사용할까"
      ],
      "metadata": {
        "id": "5RXsR3RQksxs"
      }
    },
    {
      "cell_type": "code",
      "execution_count": null,
      "metadata": {
        "id": "XksIxXnokqGh"
      },
      "outputs": [],
      "source": [
        "a = []                                # 비어있는 리스트\n",
        "b = [1, 2, 3]                         # 숫자를 요솟값으로 가짐\n",
        "c = ['Life', 'is', 'too', 'short']    # 문자열을 요솟값으로 가짐\n",
        "d = [1, 2, 'Life', 'is']              # 숫자와 문자열을 함께 요솟값으로 가짐 \n",
        "e = [1, 2, ['Life', 'is']]            # 리스트 자체를 요솟값으로 가짐 "
      ]
    },
    {
      "cell_type": "markdown",
      "source": [
        "# 리스트의 인덱싱과 슬라이싱 "
      ],
      "metadata": {
        "id": "x3IXAG7qlecL"
      }
    },
    {
      "cell_type": "code",
      "source": [
        "# 리스트의 인덱싱\n",
        "a = [1, 2, 3]\n",
        "print(a[0])\n",
        "print(a[0] + a[2])\n",
        "print(a[-1])"
      ],
      "metadata": {
        "colab": {
          "base_uri": "https://localhost:8080/"
        },
        "id": "-6_dJk5gli0E",
        "outputId": "5ccfd5f8-b90f-4403-e895-c2376ec6c885"
      },
      "execution_count": 2,
      "outputs": [
        {
          "output_type": "stream",
          "name": "stdout",
          "text": [
            "1\n",
            "4\n",
            "3\n"
          ]
        }
      ]
    },
    {
      "cell_type": "code",
      "source": [
        "a = [1, 2, 3, ['a', 'b', 'c']]\n",
        "print(a[0])\n",
        "print(a[-1])\n",
        "print(a[3])\n",
        "print(a[3][0])"
      ],
      "metadata": {
        "colab": {
          "base_uri": "https://localhost:8080/"
        },
        "id": "eZV2_h9wlsqw",
        "outputId": "b0c8bb66-a338-46f2-b97b-5f8e70a393b1"
      },
      "execution_count": 4,
      "outputs": [
        {
          "output_type": "stream",
          "name": "stdout",
          "text": [
            "1\n",
            "['a', 'b', 'c']\n",
            "['a', 'b', 'c']\n",
            "a\n"
          ]
        }
      ]
    },
    {
      "cell_type": "code",
      "source": [
        "a = [1, 2, ['a', 'b', ['Life', 'is']]]\n",
        "print(a[2][2][0])"
      ],
      "metadata": {
        "colab": {
          "base_uri": "https://localhost:8080/"
        },
        "id": "S5mcCA6WmE1u",
        "outputId": "3be1215f-25d1-40c8-fd75-a9bef039fc9f"
      },
      "execution_count": 5,
      "outputs": [
        {
          "output_type": "stream",
          "name": "stdout",
          "text": [
            "Life\n"
          ]
        }
      ]
    },
    {
      "cell_type": "code",
      "source": [
        "# 리스트의 슬라이싱\n",
        "a = [1, 2, 3, 4, 5]\n",
        "print(a[0:2])"
      ],
      "metadata": {
        "colab": {
          "base_uri": "https://localhost:8080/"
        },
        "id": "iHpI0Ea7mcJO",
        "outputId": "7c3c9e4d-55cd-4074-dfba-79eaa0e1bcc2"
      },
      "execution_count": 6,
      "outputs": [
        {
          "output_type": "stream",
          "name": "stdout",
          "text": [
            "[1, 2]\n"
          ]
        }
      ]
    },
    {
      "cell_type": "code",
      "source": [
        "b = a[:2]\n",
        "c = a[2:]\n",
        "print(b)\n",
        "print(c)"
      ],
      "metadata": {
        "colab": {
          "base_uri": "https://localhost:8080/"
        },
        "id": "nc0LGepAm8Bi",
        "outputId": "c68d349c-d848-4a09-af94-00a428382311"
      },
      "execution_count": 7,
      "outputs": [
        {
          "output_type": "stream",
          "name": "stdout",
          "text": [
            "[1, 2]\n",
            "[3, 4, 5]\n"
          ]
        }
      ]
    },
    {
      "cell_type": "code",
      "source": [
        "a = [1, 2, 3, ['a', 'b', 'c'], 4, 5]\n",
        "print(a[2:5])\n",
        "print(a[3][:2])"
      ],
      "metadata": {
        "colab": {
          "base_uri": "https://localhost:8080/"
        },
        "id": "4GUiX-x5nEhu",
        "outputId": "3dc7424a-d2ad-4b94-9b92-ecaf8d466bc0"
      },
      "execution_count": 8,
      "outputs": [
        {
          "output_type": "stream",
          "name": "stdout",
          "text": [
            "[3, ['a', 'b', 'c'], 4]\n",
            "['a', 'b']\n"
          ]
        }
      ]
    },
    {
      "cell_type": "markdown",
      "source": [
        "# 리스트 연산하기 "
      ],
      "metadata": {
        "id": "3gRuKoP7nWaq"
      }
    },
    {
      "cell_type": "code",
      "source": [
        "# 리스트 더하기 \n",
        "a = [1, 2, 3]\n",
        "b = [4, 5, 6]\n",
        "print(a + b)"
      ],
      "metadata": {
        "colab": {
          "base_uri": "https://localhost:8080/"
        },
        "id": "usScs_P9nUQL",
        "outputId": "d746bda8-26fc-4e04-c74f-a4aef06c1290"
      },
      "execution_count": 9,
      "outputs": [
        {
          "output_type": "stream",
          "name": "stdout",
          "text": [
            "[1, 2, 3, 4, 5, 6]\n"
          ]
        }
      ]
    },
    {
      "cell_type": "code",
      "source": [
        "# 리스트 반복하기 \n",
        "a = [1, 2, 3]\n",
        "print(a * 3)"
      ],
      "metadata": {
        "colab": {
          "base_uri": "https://localhost:8080/"
        },
        "id": "RDNaWSz0nlJX",
        "outputId": "9178b7c7-02a6-4ee0-c26f-e2fe1079ad11"
      },
      "execution_count": 10,
      "outputs": [
        {
          "output_type": "stream",
          "name": "stdout",
          "text": [
            "[1, 2, 3, 1, 2, 3, 1, 2, 3]\n"
          ]
        }
      ]
    },
    {
      "cell_type": "code",
      "source": [
        "# 리스트 길이 구하기 (len 함수는 문자열, 리스트, 튜플, 딕셔너리에 사용 가능)\n",
        "a = [1, 2, 3]\n",
        "len(a)"
      ],
      "metadata": {
        "colab": {
          "base_uri": "https://localhost:8080/"
        },
        "id": "FJrvCeJpnwWc",
        "outputId": "4cafa4ee-e3b5-4418-a290-48234b003500"
      },
      "execution_count": 11,
      "outputs": [
        {
          "output_type": "execute_result",
          "data": {
            "text/plain": [
              "3"
            ]
          },
          "metadata": {},
          "execution_count": 11
        }
      ]
    },
    {
      "cell_type": "code",
      "source": [
        "a = [1, 2, 3]\n",
        "str(a[2]) + \"hi\""
      ],
      "metadata": {
        "colab": {
          "base_uri": "https://localhost:8080/",
          "height": 35
        },
        "id": "zqb0d7KRn6FB",
        "outputId": "aefde24e-ced0-4b41-b215-d4dd9567179c"
      },
      "execution_count": 13,
      "outputs": [
        {
          "output_type": "execute_result",
          "data": {
            "text/plain": [
              "'3hi'"
            ],
            "application/vnd.google.colaboratory.intrinsic+json": {
              "type": "string"
            }
          },
          "metadata": {},
          "execution_count": 13
        }
      ]
    },
    {
      "cell_type": "markdown",
      "source": [
        "# 리스트의 수정과 삭제 "
      ],
      "metadata": {
        "id": "CwahEoNVoM-O"
      }
    },
    {
      "cell_type": "code",
      "source": [
        "# 리스트에서 값 수정하기 \n",
        "a = [1, 2, 3]\n",
        "a[2] = 4\n",
        "print(a)"
      ],
      "metadata": {
        "colab": {
          "base_uri": "https://localhost:8080/"
        },
        "id": "pujnoOaHoJax",
        "outputId": "b855d46f-f65c-42cd-b4c7-6daa6b6dd3e2"
      },
      "execution_count": 14,
      "outputs": [
        {
          "output_type": "stream",
          "name": "stdout",
          "text": [
            "[1, 2, 4]\n"
          ]
        }
      ]
    },
    {
      "cell_type": "code",
      "source": [
        "# del 함수 사용해 리스트 요소 삭제하기 \n",
        "a = [1, 2, 3]\n",
        "del a[1]\n",
        "print(a)"
      ],
      "metadata": {
        "colab": {
          "base_uri": "https://localhost:8080/"
        },
        "id": "oNmrVKGHoYbQ",
        "outputId": "767ce633-67eb-4564-8054-e20a4517dc9b"
      },
      "execution_count": 15,
      "outputs": [
        {
          "output_type": "stream",
          "name": "stdout",
          "text": [
            "[1, 3]\n"
          ]
        }
      ]
    },
    {
      "cell_type": "code",
      "source": [
        "a = [1, 2, 3, 4, 5]\n",
        "del a[:2]\n",
        "print(a)"
      ],
      "metadata": {
        "colab": {
          "base_uri": "https://localhost:8080/"
        },
        "id": "zA_jk399ofeG",
        "outputId": "310d9a08-cf91-492c-c107-ad35d4ef24d1"
      },
      "execution_count": 16,
      "outputs": [
        {
          "output_type": "stream",
          "name": "stdout",
          "text": [
            "[3, 4, 5]\n"
          ]
        }
      ]
    },
    {
      "cell_type": "markdown",
      "source": [
        "# 리스트 관련 함수 "
      ],
      "metadata": {
        "id": "Gon9RoRvovlB"
      }
    },
    {
      "cell_type": "code",
      "source": [
        "# 리스트에 요소 추가 (append)\n",
        "# append(x)는 리스트의 맨 마지막에 x를 추가하는 함수 \n",
        "a = [1, 2, 3]\n",
        "a.append(4)\n",
        "print(a)"
      ],
      "metadata": {
        "colab": {
          "base_uri": "https://localhost:8080/"
        },
        "id": "3PWWXI6JoneS",
        "outputId": "3afa79db-b4df-41dc-ad1c-7ef4a50c08c5"
      },
      "execution_count": 17,
      "outputs": [
        {
          "output_type": "stream",
          "name": "stdout",
          "text": [
            "[1, 2, 3, 4]\n"
          ]
        }
      ]
    },
    {
      "cell_type": "code",
      "source": [
        "a.append([5, 6])\n",
        "print(a)"
      ],
      "metadata": {
        "colab": {
          "base_uri": "https://localhost:8080/"
        },
        "id": "HwtxZ92Co-Pa",
        "outputId": "5449ca6c-cd4e-490d-d0f6-f3e52e9178f1"
      },
      "execution_count": 19,
      "outputs": [
        {
          "output_type": "stream",
          "name": "stdout",
          "text": [
            "[1, 2, 3, 4, [5, 6]]\n"
          ]
        }
      ]
    },
    {
      "cell_type": "code",
      "source": [
        "# 리스트 정렬 (sort) \n",
        "# 리스트의 요소를 순서대로 정렬하는 함수 \n",
        "a = [1, 4, 3, 2]\n",
        "a.sort()\n",
        "print(a)"
      ],
      "metadata": {
        "colab": {
          "base_uri": "https://localhost:8080/"
        },
        "id": "FTWiLmfLpEpQ",
        "outputId": "af5548d8-df87-4120-d456-56469dc45ba6"
      },
      "execution_count": 20,
      "outputs": [
        {
          "output_type": "stream",
          "name": "stdout",
          "text": [
            "[1, 2, 3, 4]\n"
          ]
        }
      ]
    },
    {
      "cell_type": "code",
      "source": [
        "a = ['a', 'c', 'b']\n",
        "a.sort()\n",
        "print(a)"
      ],
      "metadata": {
        "colab": {
          "base_uri": "https://localhost:8080/"
        },
        "id": "teNX5viXpPkO",
        "outputId": "b201d8b9-7693-4979-d4ef-7f71a59711b6"
      },
      "execution_count": 21,
      "outputs": [
        {
          "output_type": "stream",
          "name": "stdout",
          "text": [
            "['a', 'b', 'c']\n"
          ]
        }
      ]
    },
    {
      "cell_type": "code",
      "source": [
        "# 리스트 뒤집기 (reverse) \n",
        "# reverse 함수는 리스트를 역순으로 뒤집어줌 \n",
        "a = ['a', 'c', 'b']\n",
        "a.reverse()\n",
        "print(a)"
      ],
      "metadata": {
        "colab": {
          "base_uri": "https://localhost:8080/"
        },
        "id": "0wWVtsaEpU_y",
        "outputId": "80dc9dc9-34bf-425a-83dc-fa77a5587911"
      },
      "execution_count": 22,
      "outputs": [
        {
          "output_type": "stream",
          "name": "stdout",
          "text": [
            "['b', 'c', 'a']\n"
          ]
        }
      ]
    },
    {
      "cell_type": "code",
      "source": [
        "# 위치 반환 (index) \n",
        "# index(x) 함수는 리스트에 x값이 있으면 x의 위치 값을 돌려줌 \n",
        "a = [1, 2, 3]\n",
        "print(a.index(3))\n",
        "print(a.index(1))\n",
        "# 존재하지 않는 값은 오류 발생"
      ],
      "metadata": {
        "colab": {
          "base_uri": "https://localhost:8080/"
        },
        "id": "9fDkVhA_phOw",
        "outputId": "f4a1bf6c-7e67-4c19-98d5-eb2b97535c96"
      },
      "execution_count": 23,
      "outputs": [
        {
          "output_type": "stream",
          "name": "stdout",
          "text": [
            "2\n",
            "0\n"
          ]
        }
      ]
    },
    {
      "cell_type": "code",
      "source": [
        "# 리스트에 요소 삽입 (insert)\n",
        "# insert(a, b)는 리스트의 a번째 위치에 b를 삽입하는 함수\n",
        "a = [1, 2, 3]\n",
        "a.insert(0, 4)\n",
        "print(a)"
      ],
      "metadata": {
        "colab": {
          "base_uri": "https://localhost:8080/"
        },
        "id": "aJ0DJfaVprWC",
        "outputId": "c259e02f-660f-4b1a-bf87-73c1e3c58601"
      },
      "execution_count": 24,
      "outputs": [
        {
          "output_type": "stream",
          "name": "stdout",
          "text": [
            "[4, 1, 2, 3]\n"
          ]
        }
      ]
    },
    {
      "cell_type": "code",
      "source": [
        "a.insert(3, 5)\n",
        "print(a)"
      ],
      "metadata": {
        "colab": {
          "base_uri": "https://localhost:8080/"
        },
        "id": "u_ylYrZnqBAY",
        "outputId": "2d6ffb24-4d90-44a5-8b4a-cf1db82ca306"
      },
      "execution_count": 25,
      "outputs": [
        {
          "output_type": "stream",
          "name": "stdout",
          "text": [
            "[4, 1, 2, 5, 3]\n"
          ]
        }
      ]
    },
    {
      "cell_type": "code",
      "source": [
        "# 리스트 요소 제거 (remove)\n",
        "# remove(x)는 리스트에서 첫번째로 나오는 x를 삭제하는 함수 \n",
        "a = [1, 2, 3, 1, 2, 3]\n",
        "a.remove(3)\n",
        "print(a)"
      ],
      "metadata": {
        "colab": {
          "base_uri": "https://localhost:8080/"
        },
        "id": "858Js_PTqg3y",
        "outputId": "191573d2-13cc-474d-ead9-819faf8dee12"
      },
      "execution_count": 26,
      "outputs": [
        {
          "output_type": "stream",
          "name": "stdout",
          "text": [
            "[1, 2, 1, 2, 3]\n"
          ]
        }
      ]
    },
    {
      "cell_type": "code",
      "source": [
        "a.remove(3)\n",
        "print(a)"
      ],
      "metadata": {
        "colab": {
          "base_uri": "https://localhost:8080/"
        },
        "id": "0u7NnofoqwK7",
        "outputId": "bc917a5d-72ab-4696-e437-e5646d3f53d1"
      },
      "execution_count": 27,
      "outputs": [
        {
          "output_type": "stream",
          "name": "stdout",
          "text": [
            "[1, 2, 1, 2]\n"
          ]
        }
      ]
    },
    {
      "cell_type": "code",
      "source": [
        "# 리스트 요소 끄집어내기 (pop)\n",
        "# pop()은 리스트의 맨 마지막 요소를 돌려주고 그 요소는 삭제한다. \n",
        "# pop(x)는 리스트의 x번째 요소를 돌려주고 그 요소는 삭제한다. \n",
        "a = [1, 2, 3]\n",
        "print(a.pop())\n",
        "print(a)"
      ],
      "metadata": {
        "colab": {
          "base_uri": "https://localhost:8080/"
        },
        "id": "1dvjg66Wq0MY",
        "outputId": "b02022d4-d4ed-4094-aaa2-e9300a9295db"
      },
      "execution_count": 30,
      "outputs": [
        {
          "output_type": "stream",
          "name": "stdout",
          "text": [
            "3\n",
            "[1, 2]\n"
          ]
        }
      ]
    },
    {
      "cell_type": "code",
      "source": [
        "a = [1, 2, 3]\n",
        "print(a.pop(1))\n",
        "print(a)"
      ],
      "metadata": {
        "colab": {
          "base_uri": "https://localhost:8080/"
        },
        "id": "RPk9OPknrKH5",
        "outputId": "4f0afd7d-f9c8-4130-aefb-0e394b359a57"
      },
      "execution_count": 31,
      "outputs": [
        {
          "output_type": "stream",
          "name": "stdout",
          "text": [
            "2\n",
            "[1, 3]\n"
          ]
        }
      ]
    },
    {
      "cell_type": "code",
      "source": [
        "# 리스트에 포함된 요소 x의 개수 세기 (count)\n",
        "a = [1, 2, 3, 1]\n",
        "a.count(1)"
      ],
      "metadata": {
        "colab": {
          "base_uri": "https://localhost:8080/"
        },
        "id": "eirnLwsyrWR9",
        "outputId": "8424596f-91f6-44d2-cb6f-2f280abf449c"
      },
      "execution_count": 32,
      "outputs": [
        {
          "output_type": "execute_result",
          "data": {
            "text/plain": [
              "2"
            ]
          },
          "metadata": {},
          "execution_count": 32
        }
      ]
    },
    {
      "cell_type": "code",
      "source": [
        "# 리스트 확장 (extend)\n",
        "# extend(x)에서 x에는 리스트만 올 수 있으며 원래의 a 리스트에 x 리스트를 더하게 된다.\n",
        "a = [1, 2, 3]\n",
        "a.extend([4, 5])\n",
        "print(a)\n",
        "b = [6, 7]\n",
        "a.extend(b)\n",
        "print(a)"
      ],
      "metadata": {
        "colab": {
          "base_uri": "https://localhost:8080/"
        },
        "id": "oDEsczonrgg0",
        "outputId": "c1cc0c7d-33ce-495a-e6ff-9eaad1a19e35"
      },
      "execution_count": 33,
      "outputs": [
        {
          "output_type": "stream",
          "name": "stdout",
          "text": [
            "[1, 2, 3, 4, 5]\n",
            "[1, 2, 3, 4, 5, 6, 7]\n"
          ]
        }
      ]
    }
  ]
}