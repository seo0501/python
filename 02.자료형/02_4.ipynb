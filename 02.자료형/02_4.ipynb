{
  "nbformat": 4,
  "nbformat_minor": 0,
  "metadata": {
    "colab": {
      "provenance": [],
      "authorship_tag": "ABX9TyNLMHKPsvXkJxyMXMwtsA9k",
      "include_colab_link": true
    },
    "kernelspec": {
      "name": "python3",
      "display_name": "Python 3"
    },
    "language_info": {
      "name": "python"
    }
  },
  "cells": [
    {
      "cell_type": "markdown",
      "metadata": {
        "id": "view-in-github",
        "colab_type": "text"
      },
      "source": [
        "<a href=\"https://colab.research.google.com/github/seo0501/python-study/blob/main/02.%EC%9E%90%EB%A3%8C%ED%98%95/02_4.ipynb\" target=\"_parent\"><img src=\"https://colab.research.google.com/assets/colab-badge.svg\" alt=\"Open In Colab\"/></a>"
      ]
    },
    {
      "cell_type": "markdown",
      "source": [
        "튜플은 몇 가지 점을 제외하고는 리스트와 거의 비슷하다.  \n",
        "- 리스트는 []로 둘러싸지만 튜플은 ()으로 둘러싼다.  \n",
        "- 리스트는 그 값의 생성, 삭제, 수정이 가능하지만 ***튜플은 그 값을 바꿀 수 없다.***  \n",
        "- 1개의 요소만을 가질 때에는 요소 뒤에 콤마(,)를 반드시 붙여야한다.  \n",
        "- 요소가 여러개일때 괄호()를 생략해도 무방하다."
      ],
      "metadata": {
        "id": "uXOpRrRaFaXN"
      }
    },
    {
      "cell_type": "code",
      "execution_count": null,
      "metadata": {
        "id": "mdxaY3nJFDmR"
      },
      "outputs": [],
      "source": [
        "t1 = ()\n",
        "t2 = (1,)\n",
        "t3 = (1, 2, 3)\n",
        "t4 = 1, 2, 3\n",
        "t5 = ('a', 'b', ('ab', 'cd'))"
      ]
    },
    {
      "cell_type": "code",
      "source": [
        "# 인덱싱 하기 \n",
        "t1 = (1, 2, 'a', 'b')\n",
        "print(t1[0])\n",
        "print(t1[3])"
      ],
      "metadata": {
        "colab": {
          "base_uri": "https://localhost:8080/"
        },
        "id": "vT_yzJdsGlLH",
        "outputId": "524f76d3-f88c-4caa-80e1-29ecd3797090"
      },
      "execution_count": 1,
      "outputs": [
        {
          "output_type": "stream",
          "name": "stdout",
          "text": [
            "1\n",
            "b\n"
          ]
        }
      ]
    },
    {
      "cell_type": "code",
      "source": [
        "# 슬라이싱 하기 \n",
        "t1 = (1, 2, 'a', 'b')\n",
        "print(t1[1:])"
      ],
      "metadata": {
        "colab": {
          "base_uri": "https://localhost:8080/"
        },
        "id": "q-GW_eTtHFVf",
        "outputId": "78b4fe77-0aaa-43b6-d265-393da00b0c5d"
      },
      "execution_count": 2,
      "outputs": [
        {
          "output_type": "stream",
          "name": "stdout",
          "text": [
            "(2, 'a', 'b')\n"
          ]
        }
      ]
    },
    {
      "cell_type": "code",
      "source": [
        "# 튜플 더하기\n",
        "t2 = (3, 4)\n",
        "print(t1 + t2)"
      ],
      "metadata": {
        "colab": {
          "base_uri": "https://localhost:8080/"
        },
        "id": "-n_E19hcHOOD",
        "outputId": "3fd7cc20-0045-4b20-fb89-86da50997665"
      },
      "execution_count": 3,
      "outputs": [
        {
          "output_type": "stream",
          "name": "stdout",
          "text": [
            "(1, 2, 'a', 'b', 3, 4)\n"
          ]
        }
      ]
    },
    {
      "cell_type": "code",
      "source": [
        "# 튜플 곱하기\n",
        "print(t2 * 3)"
      ],
      "metadata": {
        "colab": {
          "base_uri": "https://localhost:8080/"
        },
        "id": "Ho6VMwhiHVTy",
        "outputId": "d40fda7c-9c38-4583-9635-5c000889f392"
      },
      "execution_count": 4,
      "outputs": [
        {
          "output_type": "stream",
          "name": "stdout",
          "text": [
            "(3, 4, 3, 4, 3, 4)\n"
          ]
        }
      ]
    },
    {
      "cell_type": "code",
      "source": [
        "# 튜플 길이 구하기 \n",
        "t1 = (1, 2, 'a', 'b')\n",
        "print(len(t1))"
      ],
      "metadata": {
        "colab": {
          "base_uri": "https://localhost:8080/"
        },
        "id": "nrv15tP3HbQ-",
        "outputId": "60a915ef-297a-4dbf-9a38-2c715cb8d6d7"
      },
      "execution_count": 5,
      "outputs": [
        {
          "output_type": "stream",
          "name": "stdout",
          "text": [
            "4\n"
          ]
        }
      ]
    },
    {
      "cell_type": "code",
      "source": [
        "a = (1, 2, 3)\n",
        "b = (4,)\n",
        "print(a + b)"
      ],
      "metadata": {
        "colab": {
          "base_uri": "https://localhost:8080/"
        },
        "id": "fcKlcsJfHhLq",
        "outputId": "e112523f-1f7d-4d0d-fdb9-c457f02e62e0"
      },
      "execution_count": 6,
      "outputs": [
        {
          "output_type": "stream",
          "name": "stdout",
          "text": [
            "(1, 2, 3, 4)\n"
          ]
        }
      ]
    }
  ]
}