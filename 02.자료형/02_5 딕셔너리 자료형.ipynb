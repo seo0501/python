{
  "nbformat": 4,
  "nbformat_minor": 0,
  "metadata": {
    "colab": {
      "provenance": [],
      "toc_visible": true,
      "authorship_tag": "ABX9TyOE1vY6zzM4wepPyhDmSze5",
      "include_colab_link": true
    },
    "kernelspec": {
      "name": "python3",
      "display_name": "Python 3"
    },
    "language_info": {
      "name": "python"
    }
  },
  "cells": [
    {
      "cell_type": "markdown",
      "metadata": {
        "id": "view-in-github",
        "colab_type": "text"
      },
      "source": [
        "<a href=\"https://colab.research.google.com/github/seo0501/python-study/blob/main/02.%EC%9E%90%EB%A3%8C%ED%98%95/02_5.ipynb\" target=\"_parent\"><img src=\"https://colab.research.google.com/assets/colab-badge.svg\" alt=\"Open In Colab\"/></a>"
      ]
    },
    {
      "cell_type": "markdown",
      "source": [
        "# 딕셔너리란?"
      ],
      "metadata": {
        "id": "mKJhfehtJAxS"
      }
    },
    {
      "cell_type": "markdown",
      "source": [
        "딕셔너리는 리스트나 튜플처럼 순차적으로 해당 요솟값을 구하지 않고 Key를 통해 Value를 얻는다."
      ],
      "metadata": {
        "id": "-Gfqk9A9JFeZ"
      }
    },
    {
      "cell_type": "markdown",
      "source": [
        "# 딕셔너리는 어떻게 만들까? "
      ],
      "metadata": {
        "id": "mlOUcWs5IFAK"
      }
    },
    {
      "cell_type": "markdown",
      "source": [
        "기본 덕셔너리 모습  \n",
        "{Key1:Value1, Key2:Value2, Key3:Value3, ...}"
      ],
      "metadata": {
        "id": "JmE5yQ_XIYrz"
      }
    },
    {
      "cell_type": "code",
      "execution_count": null,
      "metadata": {
        "id": "PuGQidxfICQJ"
      },
      "outputs": [],
      "source": [
        "dic = {'name': 'pey', 'phone': '0119993323', 'birth': '1118'}\n",
        "a = {1: 'hi'}\n",
        "a = {'a': [1, 2, 3]}"
      ]
    },
    {
      "cell_type": "markdown",
      "source": [
        "# 딕셔너리 쌍 추가, 삭제하기 "
      ],
      "metadata": {
        "id": "cTfaWTYoII-0"
      }
    },
    {
      "cell_type": "code",
      "source": [
        "a = {1:'a'}\n",
        "a[2] = 'b'    #{2:'b'}쌍 추가\n",
        "print(a)"
      ],
      "metadata": {
        "colab": {
          "base_uri": "https://localhost:8080/"
        },
        "id": "ZMaM17kBJRCQ",
        "outputId": "5b23145d-7fbe-46de-c137-a6bef32af63c"
      },
      "execution_count": 1,
      "outputs": [
        {
          "output_type": "stream",
          "name": "stdout",
          "text": [
            "{1: 'a', 2: 'b'}\n"
          ]
        }
      ]
    },
    {
      "cell_type": "code",
      "source": [
        "a['name'] = 'pey'\n",
        "print(a)"
      ],
      "metadata": {
        "colab": {
          "base_uri": "https://localhost:8080/"
        },
        "id": "2SeihtifJgkz",
        "outputId": "942c21b5-0762-4257-9093-80d41192868d"
      },
      "execution_count": 2,
      "outputs": [
        {
          "output_type": "stream",
          "name": "stdout",
          "text": [
            "{1: 'a', 2: 'b', 'name': 'pey'}\n"
          ]
        }
      ]
    },
    {
      "cell_type": "code",
      "source": [
        "a[3] = [1, 2, 3]\n",
        "print(a)"
      ],
      "metadata": {
        "colab": {
          "base_uri": "https://localhost:8080/"
        },
        "id": "7lssKRn5Jn30",
        "outputId": "f9610abf-9866-4015-af8c-17ab39b0617b"
      },
      "execution_count": 3,
      "outputs": [
        {
          "output_type": "stream",
          "name": "stdout",
          "text": [
            "{1: 'a', 2: 'b', 'name': 'pey', 3: [1, 2, 3]}\n"
          ]
        }
      ]
    },
    {
      "cell_type": "markdown",
      "source": [
        "# 딕셔너리를 사용하는 방법"
      ],
      "metadata": {
        "id": "T6o3Gro6IMul"
      }
    },
    {
      "cell_type": "markdown",
      "source": [
        "어떤 Key의 Value를 얻기 위해서는 '딕셔너리 변수 이름[Key]'를 사용 "
      ],
      "metadata": {
        "id": "WrKpexiDKcfq"
      }
    },
    {
      "cell_type": "code",
      "source": [
        "# 딕셔너리에서 Key 사용해 Value 얻기\n",
        "grade = {'pey': 10, 'julliet': 99}\n",
        "print(grade['pey'])       # Key가 'pey'인 딕셔너리의 Value를 반환\n",
        "print(grade['julliet'])   # Key가 'julliet'인 딕셔너리의 Value를 반환"
      ],
      "metadata": {
        "colab": {
          "base_uri": "https://localhost:8080/"
        },
        "id": "DGHG20SvJml9",
        "outputId": "013e4429-3f53-467b-b4f5-d2d4fcf5e6e8"
      },
      "execution_count": 4,
      "outputs": [
        {
          "output_type": "stream",
          "name": "stdout",
          "text": [
            "10\n",
            "99\n"
          ]
        }
      ]
    },
    {
      "cell_type": "code",
      "source": [
        "a = {1: 'a', 2: 'b'}\n",
        "print(a[1])\n",
        "print(a[2])"
      ],
      "metadata": {
        "colab": {
          "base_uri": "https://localhost:8080/"
        },
        "id": "b9RKVtXHKYSF",
        "outputId": "909ae0c2-cc65-47e9-9fdd-419a8e968294"
      },
      "execution_count": 5,
      "outputs": [
        {
          "output_type": "stream",
          "name": "stdout",
          "text": [
            "a\n",
            "b\n"
          ]
        }
      ]
    },
    {
      "cell_type": "code",
      "source": [
        "a = {'a': 1, 'b': 2}\n",
        "print(a['a'])\n",
        "print(a['b'])"
      ],
      "metadata": {
        "colab": {
          "base_uri": "https://localhost:8080/"
        },
        "id": "uA4twa67Kw36",
        "outputId": "98a4086f-f93b-4f85-f069-673d778713f6"
      },
      "execution_count": 6,
      "outputs": [
        {
          "output_type": "stream",
          "name": "stdout",
          "text": [
            "1\n",
            "2\n"
          ]
        }
      ]
    },
    {
      "cell_type": "code",
      "source": [
        "dic = {'name': 'pey', 'phone': '0119993323', 'birth': '1118'}\n",
        "print(dic['name'])\n",
        "print(dic['phone'])\n",
        "print(dic['birth'])"
      ],
      "metadata": {
        "colab": {
          "base_uri": "https://localhost:8080/"
        },
        "id": "w44hbYk9K-Tl",
        "outputId": "9c4f5576-305d-4d64-b692-223706684c18"
      },
      "execution_count": 7,
      "outputs": [
        {
          "output_type": "stream",
          "name": "stdout",
          "text": [
            "pey\n",
            "0119993323\n",
            "1118\n"
          ]
        }
      ]
    },
    {
      "cell_type": "code",
      "source": [
        "a = {1: 'a', 1: 'b'}\n",
        "print(a)"
      ],
      "metadata": {
        "colab": {
          "base_uri": "https://localhost:8080/"
        },
        "id": "7Upf_mt7LRGi",
        "outputId": "e9304045-0b49-42a7-f627-6a4fb4e010de"
      },
      "execution_count": 8,
      "outputs": [
        {
          "output_type": "stream",
          "name": "stdout",
          "text": [
            "{1: 'b'}\n"
          ]
        }
      ]
    },
    {
      "cell_type": "markdown",
      "source": [
        "## 딕셔너리 만들 때 주의할 사항 \n",
        "- Key는 고유한 값이므로 중복되는 Key 값을 설정해 놓으면 하나를 제외한 나머지 것들이 모두 무시된다.  \n",
        "- Key에 리스트는 쓸 수 없지만 튜플은 쓸 수 있다.\n",
        "\n",
        "\n",
        "> 딕셔너리의 Key로 쓸 수 있느냐 없느냐는 Key가 변하는 값인지 변하지 않는 값인지에 달려 있다.\n",
        "\n",
        "\n",
        "\n",
        "\n"
      ],
      "metadata": {
        "id": "_S-_MngLLWaJ"
      }
    },
    {
      "cell_type": "markdown",
      "source": [
        "# 딕셔너리 관련 함수 "
      ],
      "metadata": {
        "id": "irMmuQrRIR6w"
      }
    },
    {
      "cell_type": "code",
      "source": [
        "# Key 리스트 만들기 (keys)\n",
        "a = {'name': 'pey', 'phone': '0119993323', 'birth': '1118'}\n",
        "a.keys()"
      ],
      "metadata": {
        "colab": {
          "base_uri": "https://localhost:8080/"
        },
        "id": "_d5q_mbYMYN_",
        "outputId": "8ecbd157-0ff4-407f-b392-21e3a64f7f58"
      },
      "execution_count": 9,
      "outputs": [
        {
          "output_type": "execute_result",
          "data": {
            "text/plain": [
              "dict_keys(['name', 'phone', 'birth'])"
            ]
          },
          "metadata": {},
          "execution_count": 9
        }
      ]
    },
    {
      "cell_type": "code",
      "source": [
        "for k in a.keys():\n",
        "  print(k)"
      ],
      "metadata": {
        "colab": {
          "base_uri": "https://localhost:8080/"
        },
        "id": "Wg2ZxiKoMlPY",
        "outputId": "0d0df23d-7168-4e2c-ff15-3f48b93a2497"
      },
      "execution_count": 10,
      "outputs": [
        {
          "output_type": "stream",
          "name": "stdout",
          "text": [
            "name\n",
            "phone\n",
            "birth\n"
          ]
        }
      ]
    },
    {
      "cell_type": "code",
      "source": [
        "list(a.keys())"
      ],
      "metadata": {
        "colab": {
          "base_uri": "https://localhost:8080/"
        },
        "id": "KFxreGweM52o",
        "outputId": "7f2567ab-5b04-4858-a4bd-6f9532d1a2c9"
      },
      "execution_count": 11,
      "outputs": [
        {
          "output_type": "execute_result",
          "data": {
            "text/plain": [
              "['name', 'phone', 'birth']"
            ]
          },
          "metadata": {},
          "execution_count": 11
        }
      ]
    },
    {
      "cell_type": "code",
      "source": [
        "# Value 리스트 만들기 (values)\n",
        "a.values()"
      ],
      "metadata": {
        "colab": {
          "base_uri": "https://localhost:8080/"
        },
        "id": "_QnnyaBNM8-H",
        "outputId": "76003676-60c6-4754-a101-2e9b1d64fbd7"
      },
      "execution_count": 12,
      "outputs": [
        {
          "output_type": "execute_result",
          "data": {
            "text/plain": [
              "dict_values(['pey', '0119993323', '1118'])"
            ]
          },
          "metadata": {},
          "execution_count": 12
        }
      ]
    },
    {
      "cell_type": "code",
      "source": [
        "# Key, Value 쌍 얻기 (items)\n",
        "a.items()"
      ],
      "metadata": {
        "colab": {
          "base_uri": "https://localhost:8080/"
        },
        "id": "hHDcPT1INENY",
        "outputId": "eebf8021-ac8e-4643-83d4-76df0bcc4e08"
      },
      "execution_count": 13,
      "outputs": [
        {
          "output_type": "execute_result",
          "data": {
            "text/plain": [
              "dict_items([('name', 'pey'), ('phone', '0119993323'), ('birth', '1118')])"
            ]
          },
          "metadata": {},
          "execution_count": 13
        }
      ]
    },
    {
      "cell_type": "code",
      "source": [
        "# Key: Value 쌍 모두 지우기 (clear)\n",
        "a.clear()\n",
        "print(a)"
      ],
      "metadata": {
        "colab": {
          "base_uri": "https://localhost:8080/"
        },
        "id": "AP1siS8GNNDE",
        "outputId": "eeab66a3-3b20-48fc-cb24-f81d8fbbce24"
      },
      "execution_count": 15,
      "outputs": [
        {
          "output_type": "stream",
          "name": "stdout",
          "text": [
            "{}\n"
          ]
        }
      ]
    },
    {
      "cell_type": "code",
      "source": [
        "# Key로 Value 얻기 (get)\n",
        "a = {'name': 'pey', 'phone': '0119993323', 'birth': '1118'}\n",
        "print(a.get('name'))\n",
        "print(a.get('phone'))\n",
        "print(a.get('nokey'))"
      ],
      "metadata": {
        "colab": {
          "base_uri": "https://localhost:8080/"
        },
        "id": "6euxOmOMNlEh",
        "outputId": "321bd30d-73f4-456d-ff34-4341304df84c"
      },
      "execution_count": 16,
      "outputs": [
        {
          "output_type": "stream",
          "name": "stdout",
          "text": [
            "pey\n",
            "0119993323\n",
            "None\n"
          ]
        }
      ]
    },
    {
      "cell_type": "code",
      "source": [
        "# 딕셔너리 안에 찾으려는 Key 값이 없을 경우 미리 정해둔 디폴트 값을 대신 가져오게 하고 싶을 때 get(x, '디폴트 값')\n",
        "print(a.get('foo', 'bar'))"
      ],
      "metadata": {
        "colab": {
          "base_uri": "https://localhost:8080/"
        },
        "id": "1HwrCfyNN-4E",
        "outputId": "c047b049-f06b-4907-e15d-584e1481d0f2"
      },
      "execution_count": 17,
      "outputs": [
        {
          "output_type": "stream",
          "name": "stdout",
          "text": [
            "bar\n"
          ]
        }
      ]
    },
    {
      "cell_type": "code",
      "source": [
        "# 해당 Key가 딕셔너리 안에 있는지 조사하기 (in)\n",
        "a = {'name': 'pey', 'phone': '0119993323', 'birth': '1118'}\n",
        "print('name' in a)\n",
        "print('email' in a)"
      ],
      "metadata": {
        "colab": {
          "base_uri": "https://localhost:8080/"
        },
        "id": "Ws8j8me4ORXV",
        "outputId": "7102b2aa-2928-458f-adb1-5598f7a1b33a"
      },
      "execution_count": 20,
      "outputs": [
        {
          "output_type": "stream",
          "name": "stdout",
          "text": [
            "True\n",
            "False\n"
          ]
        }
      ]
    }
  ]
}
