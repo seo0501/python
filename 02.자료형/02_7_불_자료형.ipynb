{
  "nbformat": 4,
  "nbformat_minor": 0,
  "metadata": {
    "colab": {
      "provenance": [],
      "authorship_tag": "ABX9TyNwDg0oIGMkewHLHY/e+I9n",
      "include_colab_link": true
    },
    "kernelspec": {
      "name": "python3",
      "display_name": "Python 3"
    },
    "language_info": {
      "name": "python"
    }
  },
  "cells": [
    {
      "cell_type": "markdown",
      "metadata": {
        "id": "view-in-github",
        "colab_type": "text"
      },
      "source": [
        "<a href=\"https://colab.research.google.com/github/seo0501/python-study/blob/main/02.%EC%9E%90%EB%A3%8C%ED%98%95/02_7_%EB%B6%88_%EC%9E%90%EB%A3%8C%ED%98%95.ipynb\" target=\"_parent\"><img src=\"https://colab.research.google.com/assets/colab-badge.svg\" alt=\"Open In Colab\"/></a>"
      ]
    },
    {
      "cell_type": "markdown",
      "source": [
        "# 불 자료형이란?"
      ],
      "metadata": {
        "id": "XR7FH1SwP5SC"
      }
    },
    {
      "cell_type": "markdown",
      "source": [
        "불 자료형이란 참(true)과 거짓(False)을 나타내는 자료형이다. 불 자료형은 다음 2가지 값만을 가질 수 있다.\n",
        "\n",
        "\n",
        "*   True: 참\n",
        "*   False: 거짓\n",
        "\n"
      ],
      "metadata": {
        "id": "APULGxqUP98u"
      }
    },
    {
      "cell_type": "code",
      "execution_count": 2,
      "metadata": {
        "colab": {
          "base_uri": "https://localhost:8080/"
        },
        "id": "8uFEuRU7P0i5",
        "outputId": "9f04ebbf-5f69-45db-8eac-157029b41163"
      },
      "outputs": [
        {
          "output_type": "stream",
          "name": "stdout",
          "text": [
            "<class 'bool'>\n",
            "<class 'bool'>\n"
          ]
        }
      ],
      "source": [
        "a = True\n",
        "b = False\n",
        "print(type(a))\n",
        "print(type(b))"
      ]
    },
    {
      "cell_type": "code",
      "source": [
        "1 == 1"
      ],
      "metadata": {
        "colab": {
          "base_uri": "https://localhost:8080/"
        },
        "id": "Irc9p8PHRHoS",
        "outputId": "63638939-30a9-4f65-96cc-510f702f218f"
      },
      "execution_count": 3,
      "outputs": [
        {
          "output_type": "execute_result",
          "data": {
            "text/plain": [
              "True"
            ]
          },
          "metadata": {},
          "execution_count": 3
        }
      ]
    },
    {
      "cell_type": "code",
      "source": [
        "2 > 1"
      ],
      "metadata": {
        "colab": {
          "base_uri": "https://localhost:8080/"
        },
        "id": "V3611uMGRPxO",
        "outputId": "4cf89fa7-bd94-4090-ec2f-ff8a9a59840e"
      },
      "execution_count": 4,
      "outputs": [
        {
          "output_type": "execute_result",
          "data": {
            "text/plain": [
              "True"
            ]
          },
          "metadata": {},
          "execution_count": 4
        }
      ]
    },
    {
      "cell_type": "code",
      "source": [
        "2 < 1"
      ],
      "metadata": {
        "colab": {
          "base_uri": "https://localhost:8080/"
        },
        "id": "4vaKZeQcRRS3",
        "outputId": "68fe5152-2713-4370-c029-66a8f6aa5bbb"
      },
      "execution_count": 5,
      "outputs": [
        {
          "output_type": "execute_result",
          "data": {
            "text/plain": [
              "False"
            ]
          },
          "metadata": {},
          "execution_count": 5
        }
      ]
    },
    {
      "cell_type": "markdown",
      "source": [
        "# 자료형의 참과 거짓"
      ],
      "metadata": {
        "id": "0tSfYwulRVOv"
      }
    },
    {
      "cell_type": "markdown",
      "source": [
        "![image.png](data:image/png;base64,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)"
      ],
      "metadata": {
        "id": "0r9LotvLR94r"
      }
    },
    {
      "cell_type": "code",
      "source": [
        "a = [1 ,2, 3, 4]\n",
        "while a:\n",
        "  print(a.pop())"
      ],
      "metadata": {
        "colab": {
          "base_uri": "https://localhost:8080/"
        },
        "id": "_43UafteSIJq",
        "outputId": "a87e8995-4158-48e1-8683-cdf08e20792e"
      },
      "execution_count": 7,
      "outputs": [
        {
          "output_type": "stream",
          "name": "stdout",
          "text": [
            "4\n",
            "3\n",
            "2\n",
            "1\n"
          ]
        }
      ]
    },
    {
      "cell_type": "code",
      "source": [
        "if []:\n",
        "  print(\"참\")\n",
        "else:\n",
        "  print(\"거짓\")"
      ],
      "metadata": {
        "colab": {
          "base_uri": "https://localhost:8080/"
        },
        "id": "F-yg9AnIRT50",
        "outputId": "f135e42f-4703-487b-eee6-bff078c19019"
      },
      "execution_count": 8,
      "outputs": [
        {
          "output_type": "stream",
          "name": "stdout",
          "text": [
            "거짓\n"
          ]
        }
      ]
    },
    {
      "cell_type": "code",
      "source": [
        "if [1, 2, 3]:\n",
        "  print(\"참\")\n",
        "else:\n",
        "  print(\"거짓\")"
      ],
      "metadata": {
        "colab": {
          "base_uri": "https://localhost:8080/"
        },
        "id": "gE8tTyZISgiI",
        "outputId": "32769484-2426-4e00-cea2-88cf925370df"
      },
      "execution_count": 9,
      "outputs": [
        {
          "output_type": "stream",
          "name": "stdout",
          "text": [
            "참\n"
          ]
        }
      ]
    },
    {
      "cell_type": "markdown",
      "source": [
        "# 볼 연산 "
      ],
      "metadata": {
        "id": "dRfUZ4MaSpjj"
      }
    },
    {
      "cell_type": "code",
      "source": [
        "bool('python')"
      ],
      "metadata": {
        "colab": {
          "base_uri": "https://localhost:8080/"
        },
        "id": "_JwLjwFQSpJo",
        "outputId": "2885e927-171f-4e38-ee9b-8414d0a89331"
      },
      "execution_count": 10,
      "outputs": [
        {
          "output_type": "execute_result",
          "data": {
            "text/plain": [
              "True"
            ]
          },
          "metadata": {},
          "execution_count": 10
        }
      ]
    },
    {
      "cell_type": "code",
      "source": [
        "bool('')"
      ],
      "metadata": {
        "colab": {
          "base_uri": "https://localhost:8080/"
        },
        "id": "24lfsSwESm3m",
        "outputId": "840caacc-782b-4b3a-d5c8-3c4980d23c6c"
      },
      "execution_count": 11,
      "outputs": [
        {
          "output_type": "execute_result",
          "data": {
            "text/plain": [
              "False"
            ]
          },
          "metadata": {},
          "execution_count": 11
        }
      ]
    },
    {
      "cell_type": "code",
      "source": [
        "print(bool([1, 2, 3]))\n",
        "print(bool([]))\n",
        "print(bool(0))\n",
        "print(bool(3))"
      ],
      "metadata": {
        "colab": {
          "base_uri": "https://localhost:8080/"
        },
        "id": "ZG59I4DlSyJ-",
        "outputId": "c5e32310-4a62-42f2-afc3-4b08981a3ffe"
      },
      "execution_count": 12,
      "outputs": [
        {
          "output_type": "stream",
          "name": "stdout",
          "text": [
            "True\n",
            "False\n",
            "False\n",
            "True\n"
          ]
        }
      ]
    }
  ]
}