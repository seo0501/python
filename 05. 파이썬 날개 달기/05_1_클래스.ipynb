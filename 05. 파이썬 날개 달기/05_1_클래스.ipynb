{
  "nbformat": 4,
  "nbformat_minor": 0,
  "metadata": {
    "colab": {
      "provenance": [],
      "authorship_tag": "ABX9TyPZWnf7mPGkZCyRa63sz9UF",
      "include_colab_link": true
    },
    "kernelspec": {
      "name": "python3",
      "display_name": "Python 3"
    },
    "language_info": {
      "name": "python"
    }
  },
  "cells": [
    {
      "cell_type": "markdown",
      "metadata": {
        "id": "view-in-github",
        "colab_type": "text"
      },
      "source": [
        "<a href=\"https://colab.research.google.com/github/seo0501/python-study/blob/main/05.%20%ED%8C%8C%EC%9D%B4%EC%8D%AC%20%EB%82%A0%EA%B0%9C%20%EB%8B%AC%EA%B8%B0/05_1_%ED%81%B4%EB%9E%98%EC%8A%A4.ipynb\" target=\"_parent\"><img src=\"https://colab.research.google.com/assets/colab-badge.svg\" alt=\"Open In Colab\"/></a>"
      ]
    },
    {
      "cell_type": "markdown",
      "source": [
        "# 클래스는 왜 필요한가?"
      ],
      "metadata": {
        "id": "A8qmRzVdsRAO"
      }
    },
    {
      "cell_type": "code",
      "execution_count": null,
      "metadata": {
        "colab": {
          "base_uri": "https://localhost:8080/"
        },
        "id": "xUB53eujsPEP",
        "outputId": "be1dc71b-8364-407b-f405-a06879562bad"
      },
      "outputs": [
        {
          "output_type": "stream",
          "name": "stdout",
          "text": [
            "3\n",
            "7\n"
          ]
        }
      ],
      "source": [
        "result = 0\n",
        "\n",
        "def add(num):\n",
        "    global result\n",
        "    result += num\n",
        "    return result\n",
        "\n",
        "print(add(3))\n",
        "print(add(4))"
      ]
    },
    {
      "cell_type": "code",
      "source": [
        "result1 = 0\n",
        "result2 = 0\n",
        "\n",
        "def add1(num):  # 계산기1\n",
        "    global result1\n",
        "    result1 += num\n",
        "    return result1\n",
        "\n",
        "def add2(num):  # 계산기2\n",
        "    global result2\n",
        "    result2 += num\n",
        "    return result2\n",
        "\n",
        "print(add1(3))\n",
        "print(add1(4))\n",
        "print(add2(3))\n",
        "print(add2(7))"
      ],
      "metadata": {
        "colab": {
          "base_uri": "https://localhost:8080/"
        },
        "id": "Hroh0U_eskki",
        "outputId": "b58b896a-e806-4f18-ef1e-54a9613dd057"
      },
      "execution_count": null,
      "outputs": [
        {
          "output_type": "stream",
          "name": "stdout",
          "text": [
            "3\n",
            "7\n",
            "3\n",
            "10\n"
          ]
        }
      ]
    },
    {
      "cell_type": "code",
      "source": [
        "class Calculator:\n",
        "  def __init__(self):\n",
        "    self.result = 0\n",
        "\n",
        "  def add(self, num):\n",
        "    self.result += num\n",
        "    return self.result\n",
        "\n",
        "cal1 = Calculator()\n",
        "cal2 = Calculator()\n",
        "\n",
        "print(cal1.add(3))\n",
        "print(cal1.add(4))\n",
        "print(cal2.add(3))\n",
        "print(cal2.add(7))"
      ],
      "metadata": {
        "colab": {
          "base_uri": "https://localhost:8080/"
        },
        "id": "hh2bporqso3Z",
        "outputId": "cb8bf176-6ffe-495e-e884-565e99d9e87b"
      },
      "execution_count": null,
      "outputs": [
        {
          "output_type": "stream",
          "name": "stdout",
          "text": [
            "3\n",
            "7\n",
            "3\n",
            "10\n"
          ]
        }
      ]
    },
    {
      "cell_type": "markdown",
      "source": [
        "# 클래스와 객체"
      ],
      "metadata": {
        "id": "_IXhQhj_tWVp"
      }
    },
    {
      "cell_type": "code",
      "source": [
        "class Cookie:\n",
        "  pass\n",
        "\n",
        "a = Cookie()\n",
        "b = Cookie()    # a외 b는 객체"
      ],
      "metadata": {
        "id": "GqY-Q49ptSGs"
      },
      "execution_count": null,
      "outputs": []
    },
    {
      "cell_type": "markdown",
      "source": [
        "인스턴스 : 클래스로 만든 객체  \n",
        "ex) a는 객체이고 a 객체는 Cookie의 인스턴스다.  \n",
        "인스턴스라는 말은 특정 객체가 어떤 클래스의 객체인지를 관계 위주로 설명할 때 사용함.  \n",
        "a는 인스턴스 -> a는 객체  \n",
        "a는 Cookie의 객체 -> a는 Cookie의 인스턴스"
      ],
      "metadata": {
        "id": "g8rssOcTt8Ms"
      }
    },
    {
      "cell_type": "markdown",
      "source": [
        "# 사칙연산 클래스 만들기"
      ],
      "metadata": {
        "id": "eKh_aeR_udic"
      }
    },
    {
      "cell_type": "markdown",
      "source": [
        "1. 클래스 구상하기  \n",
        "skip"
      ],
      "metadata": {
        "id": "uIobgr-Wu_X1"
      }
    },
    {
      "cell_type": "markdown",
      "source": [
        "2. 클래스 구조 만들기"
      ],
      "metadata": {
        "id": "ovqWcmZmvCDM"
      }
    },
    {
      "cell_type": "code",
      "source": [
        "class FourCal:\n",
        "  pass\n",
        "\n",
        "a = FourCal()\n",
        "type(a)   # 객체 a는 Fourcal 클래스의 객체"
      ],
      "metadata": {
        "colab": {
          "base_uri": "https://localhost:8080/"
        },
        "id": "JbPGYeNIugrH",
        "outputId": "2076337d-9e23-41f2-c33f-0f6b21131a0d"
      },
      "execution_count": null,
      "outputs": [
        {
          "output_type": "execute_result",
          "data": {
            "text/plain": [
              "__main__.Fourcal"
            ]
          },
          "metadata": {},
          "execution_count": 4
        }
      ]
    },
    {
      "cell_type": "code",
      "source": [
        "# 클래스 안에 구현된 함수 : 메서드(Method)\n",
        "class FourCal:\n",
        "  def setdata(self, first, second):\n",
        "    self.first = first\n",
        "    self.second = second\n",
        "\n",
        "a = FourCal()\n",
        "a.setdata(4, 2)     # 또는 FourCal.setdata(a, 4, 2)\n",
        "# setdata 메서드의 첫 번째 매개변수 self에는 setdata 메서드를 호출한 객체 a가 자동으로 전달됨\n",
        "\n",
        "print(a.first)\n",
        "print(a.second)"
      ],
      "metadata": {
        "colab": {
          "base_uri": "https://localhost:8080/"
        },
        "id": "M4RbJ1vbvNxc",
        "outputId": "3ff36091-4a00-4aa7-8fd2-74c50100409f"
      },
      "execution_count": null,
      "outputs": [
        {
          "output_type": "stream",
          "name": "stdout",
          "text": [
            "4\n",
            "2\n"
          ]
        }
      ]
    },
    {
      "cell_type": "code",
      "source": [
        "# 클래스로 만든 객체의 객체변수는 다른 객체의 객체변수에 상관없이 독립적인 값을 유지한다.\n",
        "a = FourCal()\n",
        "b = FourCal()\n",
        "\n",
        "a.setdata(4, 2)\n",
        "print(a.first)\n",
        "\n",
        "b.setdata(3, 7)\n",
        "print(b.first)"
      ],
      "metadata": {
        "colab": {
          "base_uri": "https://localhost:8080/"
        },
        "id": "Q23oF8NywKAr",
        "outputId": "7b20e913-3804-4dff-e064-f6791b16c8ce"
      },
      "execution_count": null,
      "outputs": [
        {
          "output_type": "stream",
          "name": "stdout",
          "text": [
            "4\n",
            "3\n"
          ]
        }
      ]
    },
    {
      "cell_type": "markdown",
      "source": [
        "3. 더하기 기능 만들기"
      ],
      "metadata": {
        "id": "ALgeuRzRxGN3"
      }
    },
    {
      "cell_type": "code",
      "source": [
        "class FourCal:\n",
        "  def setdata(self, first, second):\n",
        "    self.first = first\n",
        "    self.second = second\n",
        "  def add(self):\n",
        "    result = self.first + self.second\n",
        "    return result\n",
        "\n",
        "a = FourCal()\n",
        "a.setdata(4, 2)\n",
        "print(a.add())"
      ],
      "metadata": {
        "colab": {
          "base_uri": "https://localhost:8080/"
        },
        "id": "5I5-Knk4xFzO",
        "outputId": "494149a3-5f11-40af-c1e6-ab213e44aa5a"
      },
      "execution_count": null,
      "outputs": [
        {
          "output_type": "stream",
          "name": "stdout",
          "text": [
            "6\n"
          ]
        }
      ]
    },
    {
      "cell_type": "markdown",
      "source": [
        "4. 곱하기, 빼기, 나누기 기능 만들기"
      ],
      "metadata": {
        "id": "04hvFYrxxoqJ"
      }
    },
    {
      "cell_type": "code",
      "source": [
        "class FourCal:\n",
        "  def setdata(self, first, second):\n",
        "    self.first = first\n",
        "    self.second = second\n",
        "  def add(self):\n",
        "    result = self.first + self.second\n",
        "    return result\n",
        "  def mul(self):\n",
        "    result = self.first * self.second\n",
        "    return result\n",
        "  def sub(self):\n",
        "    result = self.first - self.second\n",
        "    return result\n",
        "  def div(self):\n",
        "    result = self.first / self.second\n",
        "    return result\n",
        "\n",
        "a = FourCal()\n",
        "b = FourCal()\n",
        "a.setdata(4, 2)\n",
        "b.setdata(3, 8)\n",
        "\n",
        "print(a.add(),a.mul(),a.sub(),a.div())\n",
        "print(b.add(),b.mul(),b.sub(),b.div())"
      ],
      "metadata": {
        "colab": {
          "base_uri": "https://localhost:8080/"
        },
        "id": "-B5fRHTDxCAL",
        "outputId": "744469fa-35ed-4dc1-840a-8d86399a4563"
      },
      "execution_count": null,
      "outputs": [
        {
          "output_type": "stream",
          "name": "stdout",
          "text": [
            "6 8 2 2.0\n",
            "11 24 -5 0.375\n"
          ]
        }
      ]
    },
    {
      "cell_type": "markdown",
      "source": [
        "# 생성자"
      ],
      "metadata": {
        "id": "AkKv3SQByvE_"
      }
    },
    {
      "cell_type": "markdown",
      "source": [
        "FourCak 클래스의 인스턴스 a에 setdata 메서드를 수행하지 않고 add 메서드를 수행하면 오류가 발생한다.  \n",
        "이렇게 객체에 초깃값을 설정해야 할 필요가 있을 때는 생성자를 구현하는 것이 안전한 방법이다.  \n",
        "파이선 메서드 이름으로 _ _init_ _를 사용하면 이 메서드는 생성자가 된다."
      ],
      "metadata": {
        "id": "EMvwUVosy2Bk"
      }
    },
    {
      "cell_type": "code",
      "source": [
        "class FourCal:\n",
        "  def __init__(self, first, second):\n",
        "    self.first = first\n",
        "    self.second = second\n",
        "  def add(self):\n",
        "    result = self.first + self.second\n",
        "    return result\n",
        "  def mul(self):\n",
        "    result = self.first * self.second\n",
        "    return result\n",
        "  def sub(self):\n",
        "    result = self.first - self.second\n",
        "    return result\n",
        "  def div(self):\n",
        "    result = self.first / self.second\n",
        "    return result\n",
        "\n",
        "a = FourCal(4, 2)   # 매개변수가 전달되지 않으면 오류 발생\n",
        "print(a.first)\n",
        "print(a.second)\n",
        "print(a.add(), a.div())"
      ],
      "metadata": {
        "colab": {
          "base_uri": "https://localhost:8080/"
        },
        "id": "ZW7yo-hzyjC3",
        "outputId": "a7f91e4f-16d3-4555-ac19-732067eccce7"
      },
      "execution_count": null,
      "outputs": [
        {
          "output_type": "stream",
          "name": "stdout",
          "text": [
            "4\n",
            "2\n",
            "6 2.0\n"
          ]
        }
      ]
    },
    {
      "cell_type": "markdown",
      "source": [
        "# 클래스의 상속"
      ],
      "metadata": {
        "id": "rPiMWf1sz5cv"
      }
    },
    {
      "cell_type": "markdown",
      "source": [
        "class 클래스 이름(상속할 클래스 이름)"
      ],
      "metadata": {
        "id": "EhuwJwHhz_gt"
      }
    },
    {
      "cell_type": "code",
      "source": [
        "class MoreFourCal(FourCal):\n",
        "  pass\n",
        "\n",
        "a = MoreFourCal(4, 2)\n",
        "print(a.add(), a.mul(), a.sub(), a.div())"
      ],
      "metadata": {
        "colab": {
          "base_uri": "https://localhost:8080/"
        },
        "id": "um3UGUvHz4hG",
        "outputId": "16cf2b7e-8382-4ec3-894f-fb4e4b3b97ed"
      },
      "execution_count": null,
      "outputs": [
        {
          "output_type": "stream",
          "name": "stdout",
          "text": [
            "6 8 2 2.0\n"
          ]
        }
      ]
    },
    {
      "cell_type": "code",
      "source": [
        "class MoreFourCal(FourCal):\n",
        "  def pow(self):\n",
        "    result = self.first ** self.second\n",
        "    return result\n",
        "\n",
        "a = MoreFourCal(4, 2)\n",
        "a.pow()"
      ],
      "metadata": {
        "colab": {
          "base_uri": "https://localhost:8080/"
        },
        "id": "loauhSrS0TaA",
        "outputId": "b975ad10-7bc6-4196-b8af-0cf7780c1f6c"
      },
      "execution_count": null,
      "outputs": [
        {
          "output_type": "execute_result",
          "data": {
            "text/plain": [
              "16"
            ]
          },
          "metadata": {},
          "execution_count": 13
        }
      ]
    },
    {
      "cell_type": "code",
      "source": [
        "# 메서드 오버라이딩 : 부모 클래스에 있는 메서드를 동일한 이름으로 다시 만드는 것\n",
        "class SafeFourCal(FourCal):\n",
        "  def div(self):\n",
        "    if self.second == 0:\n",
        "      return 0\n",
        "    else:\n",
        "      return self.first / self.second\n",
        "\n",
        "a = SafeFourCal(4, 0)\n",
        "a.div()"
      ],
      "metadata": {
        "colab": {
          "base_uri": "https://localhost:8080/"
        },
        "id": "UEYCw2vD0pU3",
        "outputId": "a3d356fb-81ba-4e97-cd00-72bc689c53cd"
      },
      "execution_count": null,
      "outputs": [
        {
          "output_type": "execute_result",
          "data": {
            "text/plain": [
              "0"
            ]
          },
          "metadata": {},
          "execution_count": 14
        }
      ]
    },
    {
      "cell_type": "markdown",
      "source": [
        "# 클래스 변수"
      ],
      "metadata": {
        "id": "pScjregx1SNG"
      }
    },
    {
      "cell_type": "markdown",
      "source": [
        "클래스 변수: 클래스 안에서 선언된 변수  \n",
        "클래스 이름.클래스 변수로 사용할 수 있다."
      ],
      "metadata": {
        "id": "3YvsK_GT1kcg"
      }
    },
    {
      "cell_type": "code",
      "source": [
        "class Family:\n",
        "  lastname = \"김\"\n",
        "\n",
        "print(Family.lastname)"
      ],
      "metadata": {
        "colab": {
          "base_uri": "https://localhost:8080/"
        },
        "id": "xRTDjksH1UIx",
        "outputId": "7cf5a46f-82f6-4dd8-8e22-349d872efb3d"
      },
      "execution_count": null,
      "outputs": [
        {
          "output_type": "stream",
          "name": "stdout",
          "text": [
            "김\n"
          ]
        }
      ]
    },
    {
      "cell_type": "code",
      "source": [
        "a = Family()\n",
        "b = Family()\n",
        "print(a.lastname)\n",
        "print(b.lastname)"
      ],
      "metadata": {
        "colab": {
          "base_uri": "https://localhost:8080/"
        },
        "id": "Atp00bFr1Rb9",
        "outputId": "a2a2fc60-b516-4efc-efaa-839691a011f7"
      },
      "execution_count": null,
      "outputs": [
        {
          "output_type": "stream",
          "name": "stdout",
          "text": [
            "김\n",
            "김\n"
          ]
        }
      ]
    },
    {
      "cell_type": "code",
      "source": [
        "# 클래스 변수 값을 변경하면 클래스로 만든 객체의 lastname 값도 모두 변경됨\n",
        "Family.lastname = \"박\"\n",
        "print(a.lastname)\n",
        "print(b.lastname)"
      ],
      "metadata": {
        "colab": {
          "base_uri": "https://localhost:8080/"
        },
        "id": "LMgBKNNe2GUI",
        "outputId": "b769247e-03b3-4e9c-be6e-6d4a13533cc2"
      },
      "execution_count": null,
      "outputs": [
        {
          "output_type": "stream",
          "name": "stdout",
          "text": [
            "박\n",
            "박\n"
          ]
        }
      ]
    },
    {
      "cell_type": "code",
      "source": [
        "a.lastname = \"최\"\n",
        "print(a.lastname)     # a 객체에 lastname이라는 객체변수가 새롭게 생성됨\n",
        "print(Family.lastname)\n",
        "print(b.lastname)"
      ],
      "metadata": {
        "colab": {
          "base_uri": "https://localhost:8080/"
        },
        "id": "vEZEE_Pa2MR4",
        "outputId": "0240ee1b-3191-419e-dbd1-eec59ead9ec7"
      },
      "execution_count": null,
      "outputs": [
        {
          "output_type": "stream",
          "name": "stdout",
          "text": [
            "최\n",
            "박\n",
            "박\n"
          ]
        }
      ]
    }
  ]
}