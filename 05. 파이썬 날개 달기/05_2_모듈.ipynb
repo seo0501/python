{
  "nbformat": 4,
  "nbformat_minor": 0,
  "metadata": {
    "colab": {
      "provenance": [],
      "authorship_tag": "ABX9TyOM1feS3whsfSJ81Wg54mFA",
      "include_colab_link": true
    },
    "kernelspec": {
      "name": "python3",
      "display_name": "Python 3"
    },
    "language_info": {
      "name": "python"
    }
  },
  "cells": [
    {
      "cell_type": "markdown",
      "metadata": {
        "id": "view-in-github",
        "colab_type": "text"
      },
      "source": [
        "<a href=\"https://colab.research.google.com/github/seo0501/python-study/blob/main/05.%20%ED%8C%8C%EC%9D%B4%EC%8D%AC%20%EB%82%A0%EA%B0%9C%20%EB%8B%AC%EA%B8%B0/05_2_%EB%AA%A8%EB%93%88.ipynb\" target=\"_parent\"><img src=\"https://colab.research.google.com/assets/colab-badge.svg\" alt=\"Open In Colab\"/></a>"
      ]
    },
    {
      "cell_type": "code",
      "source": [
        "from google.colab import drive\n",
        "drive.mount('/content/drive')"
      ],
      "metadata": {
        "colab": {
          "base_uri": "https://localhost:8080/"
        },
        "id": "indj0xDDd2B-",
        "outputId": "4c3460bd-f891-4395-ade4-c5b8c5a54875"
      },
      "execution_count": null,
      "outputs": [
        {
          "output_type": "stream",
          "name": "stdout",
          "text": [
            "Mounted at /content/drive\n"
          ]
        }
      ]
    },
    {
      "cell_type": "code",
      "source": [
        "!pwd"
      ],
      "metadata": {
        "colab": {
          "base_uri": "https://localhost:8080/"
        },
        "id": "08rXXCsAiI6i",
        "outputId": "c7ee477c-f152-49ea-b727-0a962c87cbf0"
      },
      "execution_count": null,
      "outputs": [
        {
          "output_type": "stream",
          "name": "stdout",
          "text": [
            "/content\n"
          ]
        }
      ]
    },
    {
      "cell_type": "markdown",
      "source": [
        "# 모듈 만들기"
      ],
      "metadata": {
        "id": "2OHHti_Ici-v"
      }
    },
    {
      "cell_type": "code",
      "execution_count": null,
      "metadata": {
        "id": "ktYimArscfiY",
        "colab": {
          "base_uri": "https://localhost:8080/"
        },
        "outputId": "566c313a-88ea-4282-c83d-d63602f39dc7"
      },
      "outputs": [
        {
          "output_type": "stream",
          "name": "stdout",
          "text": [
            "/content/drive/My Drive/Colab Notebooks/점프투파이썬 모듈\n"
          ]
        }
      ],
      "source": [
        "%cd drive/My\\ Drive/Colab\\ Notebooks/점프투파이썬\\ 모듈"
      ]
    },
    {
      "cell_type": "code",
      "source": [
        "!ls"
      ],
      "metadata": {
        "colab": {
          "base_uri": "https://localhost:8080/"
        },
        "id": "-_eV1sFUio-Y",
        "outputId": "26fae7b6-2b5b-41f5-af05-1731f884cac7"
      },
      "execution_count": null,
      "outputs": [
        {
          "output_type": "stream",
          "name": "stdout",
          "text": [
            "mod1.py\n"
          ]
        }
      ]
    },
    {
      "cell_type": "markdown",
      "source": [
        "import *모듈 이름*"
      ],
      "metadata": {
        "id": "5pNha4CUi6eH"
      }
    },
    {
      "cell_type": "code",
      "source": [
        "import mod1\n",
        "print(mod1.add(3, 4))\n",
        "print(mod1.sub(4, 2))"
      ],
      "metadata": {
        "colab": {
          "base_uri": "https://localhost:8080/"
        },
        "id": "mkJYKz5eiqGm",
        "outputId": "324829a3-e9cc-414d-aa43-23cb16119c9e"
      },
      "execution_count": null,
      "outputs": [
        {
          "output_type": "stream",
          "name": "stdout",
          "text": [
            "7\n"
          ]
        }
      ]
    },
    {
      "cell_type": "markdown",
      "source": [
        "from *모듈 이름*  import *모듈 함수*"
      ],
      "metadata": {
        "id": "L9yDAvz_i-WW"
      }
    },
    {
      "cell_type": "code",
      "source": [
        "from mod1 import add\n",
        "add(3, 4)"
      ],
      "metadata": {
        "colab": {
          "base_uri": "https://localhost:8080/"
        },
        "id": "vvx8FD10ixbf",
        "outputId": "76e0973b-7114-4fbb-ce9c-e060a1d0c092"
      },
      "execution_count": null,
      "outputs": [
        {
          "output_type": "execute_result",
          "data": {
            "text/plain": [
              "7"
            ]
          },
          "metadata": {},
          "execution_count": 6
        }
      ]
    },
    {
      "cell_type": "code",
      "source": [
        "from mod1 import add, sub\n",
        "from mod1 import *"
      ],
      "metadata": {
        "id": "TY71dYL3jJdw"
      },
      "execution_count": null,
      "outputs": []
    },
    {
      "cell_type": "markdown",
      "source": [
        "# if  __name __==\" __main __\":의 의미\n",
        "\n"
      ],
      "metadata": {
        "id": "gk0hV3nqjRvI"
      }
    },
    {
      "cell_type": "code",
      "source": [
        "import mod1"
      ],
      "metadata": {
        "id": "OtY8SPIkjnQp"
      },
      "execution_count": null,
      "outputs": []
    },
    {
      "cell_type": "markdown",
      "source": [
        "직접 파일을 실행했을 때는 __name __==\" __main __\"이 참이 되어 if문 다음 문장이 수행된다.  \n",
        "반대로 대화형 인터프리터나 다른 파일에서 이 모듈을 불러서 사용할 때는  __name __==\" __main __\"이 거짓이 되어 if 다음 문장이 수행되지 않는다."
      ],
      "metadata": {
        "id": "AE-7mChukhXg"
      }
    },
    {
      "cell_type": "markdown",
      "source": [
        "# 클래스나 변수등을 포함한 모듈"
      ],
      "metadata": {
        "id": "8dRLV3hNlDTH"
      }
    },
    {
      "cell_type": "code",
      "source": [
        "!pwd"
      ],
      "metadata": {
        "colab": {
          "base_uri": "https://localhost:8080/"
        },
        "id": "r-8z3XYckehm",
        "outputId": "f6b9fa58-5d8a-4335-bfd3-56b9ba9fb90b"
      },
      "execution_count": null,
      "outputs": [
        {
          "output_type": "stream",
          "name": "stdout",
          "text": [
            "/content/drive/MyDrive/Colab Notebooks/점프투파이썬 모듈\n"
          ]
        }
      ]
    },
    {
      "cell_type": "code",
      "source": [
        "!ls"
      ],
      "metadata": {
        "id": "vON5vJhxllmI",
        "colab": {
          "base_uri": "https://localhost:8080/"
        },
        "outputId": "e847e623-7f6c-44c4-8679-375bd7220ea3"
      },
      "execution_count": null,
      "outputs": [
        {
          "output_type": "stream",
          "name": "stdout",
          "text": [
            "mod1.py  mod2.py  mod3.py  __pycache__\n"
          ]
        }
      ]
    },
    {
      "cell_type": "code",
      "source": [
        "%%writefile mod3.py\n",
        "PI = 3.141592\n",
        "\n",
        "class Math:\n",
        "    def solv(self, r):\n",
        "        return PI * (r ** 2)\n",
        "\n",
        "def add(a, b):\n",
        "    return a+b"
      ],
      "metadata": {
        "colab": {
          "base_uri": "https://localhost:8080/"
        },
        "id": "vAQgSeDevuYv",
        "outputId": "7a8804a1-1718-43c4-e820-14a4c5962e9d"
      },
      "execution_count": null,
      "outputs": [
        {
          "output_type": "stream",
          "name": "stdout",
          "text": [
            "Writing mod3.py\n"
          ]
        }
      ]
    },
    {
      "cell_type": "code",
      "source": [
        "import mod3\n",
        "a = mod3.Math()\n",
        "print(a.solv(2))\n",
        "print(mod3.add(mod3.PI, 4.4))"
      ],
      "metadata": {
        "colab": {
          "base_uri": "https://localhost:8080/"
        },
        "id": "p_3Hlahbv5IQ",
        "outputId": "dfff188c-e710-4080-b9fe-6e005ee359e6"
      },
      "execution_count": null,
      "outputs": [
        {
          "output_type": "stream",
          "name": "stdout",
          "text": [
            "12.566368\n",
            "7.5415920000000005\n"
          ]
        }
      ]
    }
  ]
}