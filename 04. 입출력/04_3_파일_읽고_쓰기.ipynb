{
  "nbformat": 4,
  "nbformat_minor": 0,
  "metadata": {
    "colab": {
      "provenance": [],
      "authorship_tag": "ABX9TyOPwACeHgOrk40sbgbz2nNM",
      "include_colab_link": true
    },
    "kernelspec": {
      "name": "python3",
      "display_name": "Python 3"
    },
    "language_info": {
      "name": "python"
    }
  },
  "cells": [
    {
      "cell_type": "markdown",
      "metadata": {
        "id": "view-in-github",
        "colab_type": "text"
      },
      "source": [
        "<a href=\"https://colab.research.google.com/github/seo0501/python-study/blob/main/04.%20%EC%9E%85%EC%B6%9C%EB%A0%A5/04_3_%ED%8C%8C%EC%9D%BC_%EC%9D%BD%EA%B3%A0_%EC%93%B0%EA%B8%B0.ipynb\" target=\"_parent\"><img src=\"https://colab.research.google.com/assets/colab-badge.svg\" alt=\"Open In Colab\"/></a>"
      ]
    },
    {
      "cell_type": "markdown",
      "source": [
        "# 파일 생성하기"
      ],
      "metadata": {
        "id": "HY0L3ZZcaSUl"
      }
    },
    {
      "cell_type": "markdown",
      "source": [
        "open 함수는 '파일 이름'과 '파일 열기 모드'를 입력값으로 받고 결괏값으로 파일 객체를 돌려준다.\n",
        "![image.png](data:image/png;base64,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)"
      ],
      "metadata": {
        "id": "-_fHnlExay5l"
      }
    },
    {
      "cell_type": "code",
      "execution_count": null,
      "metadata": {
        "id": "JC524u_uaMAm"
      },
      "outputs": [],
      "source": [
        "# C:/doit 디렉터리에 생성\n",
        "f = open(\"C:/doit/새파일.txt\", \"w\")\n",
        "f.close()"
      ]
    },
    {
      "cell_type": "markdown",
      "source": [
        "# 파일을 쓰기 모드로 열어 출력값 적기"
      ],
      "metadata": {
        "id": "hUrXxr4ubgkV"
      }
    },
    {
      "cell_type": "code",
      "source": [
        "# 모니터에 출력\n",
        "for i in range(1, 11):\n",
        "    data = \"%d번째 줄입니다.\\n\" % i\n",
        "    print(data)"
      ],
      "metadata": {
        "colab": {
          "base_uri": "https://localhost:8080/"
        },
        "id": "BArYErtycqhm",
        "outputId": "cb1795b4-f647-44db-8f8c-857e1434f8f0"
      },
      "execution_count": null,
      "outputs": [
        {
          "output_type": "stream",
          "name": "stdout",
          "text": [
            "1번째 줄입니다.\n",
            "\n",
            "2번째 줄입니다.\n",
            "\n",
            "3번째 줄입니다.\n",
            "\n",
            "4번째 줄입니다.\n",
            "\n",
            "5번째 줄입니다.\n",
            "\n",
            "6번째 줄입니다.\n",
            "\n",
            "7번째 줄입니다.\n",
            "\n",
            "8번째 줄입니다.\n",
            "\n",
            "9번째 줄입니다.\n",
            "\n",
            "10번째 줄입니다.\n",
            "\n"
          ]
        }
      ]
    },
    {
      "cell_type": "code",
      "source": [
        "# 파일에 출력\n",
        "# f = open(\"C:/doit/새파일.txt\", 'w')\n",
        "\n",
        "f = open(\"새파일.txt\", 'w')\n",
        "for i in range(1, 11):\n",
        "  data = \"%d번째 줄입니다\\n\" %i\n",
        "  f.write(data) #data를 파일 객체 f에 써라\n",
        "f.close()"
      ],
      "metadata": {
        "id": "xcTSsxEMbkJK"
      },
      "execution_count": null,
      "outputs": []
    },
    {
      "cell_type": "markdown",
      "source": [
        "# 프로그램의 외부에 저장된 파일을 읽는 여러가지 방법"
      ],
      "metadata": {
        "id": "yHbCBtK-envv"
      }
    },
    {
      "cell_type": "code",
      "source": [
        "# readline 함수 사용하기 : 첫번째 줄 읽어옴\n",
        "f = open(\"새파일.txt\", 'r')\n",
        "line = f.readline()\n",
        "print(line)\n",
        "f.close()"
      ],
      "metadata": {
        "colab": {
          "base_uri": "https://localhost:8080/"
        },
        "id": "RnOsOdaFcDSb",
        "outputId": "62652108-07a3-4faf-8c01-b2cb1bf6235a"
      },
      "execution_count": null,
      "outputs": [
        {
          "output_type": "stream",
          "name": "stdout",
          "text": [
            "1번째 줄입니다\n",
            "\n"
          ]
        }
      ]
    },
    {
      "cell_type": "code",
      "source": [
        "# 파일을 사용한 입력\n",
        "f = open(\"새파일.txt\", 'r')\n",
        "while True:\n",
        "  line = f.readline()\n",
        "  if not line : break     #readline()은 더 이상 읽을 줄이 없으면 None을 출력함\n",
        "  print(line)\n",
        "f.close()"
      ],
      "metadata": {
        "colab": {
          "base_uri": "https://localhost:8080/"
        },
        "id": "p3vSFcTEfAoZ",
        "outputId": "a90e7e17-802b-4d20-85a2-7586799ad8f7"
      },
      "execution_count": null,
      "outputs": [
        {
          "output_type": "stream",
          "name": "stdout",
          "text": [
            "1번째 줄입니다\n",
            "\n",
            "2번째 줄입니다\n",
            "\n",
            "3번째 줄입니다\n",
            "\n",
            "4번째 줄입니다\n",
            "\n",
            "5번째 줄입니다\n",
            "\n",
            "6번째 줄입니다\n",
            "\n",
            "7번째 줄입니다\n",
            "\n",
            "8번째 줄입니다\n",
            "\n",
            "9번째 줄입니다\n",
            "\n",
            "10번째 줄입니다\n",
            "\n"
          ]
        }
      ]
    },
    {
      "cell_type": "code",
      "source": [
        "# 키보드를 이용한 입력\n",
        "while 1:\n",
        "  data = input()\n",
        "  if not data: break\n",
        "  print(data)"
      ],
      "metadata": {
        "colab": {
          "base_uri": "https://localhost:8080/"
        },
        "id": "_y12NjQsfoJq",
        "outputId": "4fd21c4a-ff8f-41fa-f78d-e3e0deec9676"
      },
      "execution_count": null,
      "outputs": [
        {
          "name": "stdout",
          "output_type": "stream",
          "text": [
            "1\n",
            "1\n",
            "2\n",
            "2\n",
            "\n"
          ]
        }
      ]
    },
    {
      "cell_type": "code",
      "source": [
        "# readlines 함수 사용하기 : 모든 줄을 읽어 각각의 줄을 요소로 갖는 리스트로 돌려줌\n",
        "f = open(\"새파일.txt\", 'r')\n",
        "lines = f.readlines()\n",
        "for line in lines:\n",
        "  print(line, end = \"\")\n",
        "f.close()"
      ],
      "metadata": {
        "colab": {
          "base_uri": "https://localhost:8080/"
        },
        "id": "j-zxyfamfuJZ",
        "outputId": "5d875428-607a-4d94-e967-c140fb2330b9"
      },
      "execution_count": null,
      "outputs": [
        {
          "output_type": "stream",
          "name": "stdout",
          "text": [
            "1번째 줄입니다\n",
            "2번째 줄입니다\n",
            "3번째 줄입니다\n",
            "4번째 줄입니다\n",
            "5번째 줄입니다\n",
            "6번째 줄입니다\n",
            "7번째 줄입니다\n",
            "8번째 줄입니다\n",
            "9번째 줄입니다\n",
            "10번째 줄입니다\n"
          ]
        }
      ]
    },
    {
      "cell_type": "code",
      "source": [
        "# read 함수 사용하기 : 파일 내용 전체를 문자열로 돌려줌\n",
        "f = open(\"새파일.txt\", 'r')\n",
        "data = f.read()\n",
        "print(data)\n",
        "f.close()"
      ],
      "metadata": {
        "colab": {
          "base_uri": "https://localhost:8080/"
        },
        "id": "AYexBIA1gUEM",
        "outputId": "d7164e43-9661-43c1-8f11-fd58928b198e"
      },
      "execution_count": null,
      "outputs": [
        {
          "output_type": "stream",
          "name": "stdout",
          "text": [
            "1번째 줄입니다\n",
            "2번째 줄입니다\n",
            "3번째 줄입니다\n",
            "4번째 줄입니다\n",
            "5번째 줄입니다\n",
            "6번째 줄입니다\n",
            "7번째 줄입니다\n",
            "8번째 줄입니다\n",
            "9번째 줄입니다\n",
            "10번째 줄입니다\n",
            "\n"
          ]
        }
      ]
    },
    {
      "cell_type": "markdown",
      "source": [
        "# 파일에 새로운 내용 추가하기"
      ],
      "metadata": {
        "id": "W2uasqKDg0PD"
      }
    },
    {
      "cell_type": "code",
      "source": [
        "f = open(\"새파일.txt\", 'a')\n",
        "for i in range(11, 20):\n",
        "  data = \"%d번째 줄입니다.\\n\" %i\n",
        "  f.write(data)\n",
        "f.close()"
      ],
      "metadata": {
        "id": "urNwRNHCg3if"
      },
      "execution_count": null,
      "outputs": []
    },
    {
      "cell_type": "markdown",
      "source": [
        "# with문과 함께 사용하기"
      ],
      "metadata": {
        "id": "4nR0vLsQhRhf"
      }
    },
    {
      "cell_type": "code",
      "source": [
        "f = open(\"foo.txt\", 'w')\n",
        "f.write(\"Life is too short, you need python\")\n",
        "f.close()"
      ],
      "metadata": {
        "id": "JGcvJUEWhK4q"
      },
      "execution_count": null,
      "outputs": []
    },
    {
      "cell_type": "code",
      "source": [
        "# with 문을 사용하면 with 블록(with 문에 속해 있는 문장)을 벗어나는 순간, 열린 파일 객체 f가 자동으로 닫힘\n",
        "with open(\"foo.txt\", 'w') as f:\n",
        "  f.write(\"Life is too short, you need python\")"
      ],
      "metadata": {
        "id": "vTzPAJ9Vh6ys"
      },
      "execution_count": null,
      "outputs": []
    },
    {
      "cell_type": "markdown",
      "source": [
        "# sys 모듈로 매개변수 주기"
      ],
      "metadata": {
        "id": "Lg0_5pzni9X7"
      }
    },
    {
      "cell_type": "markdown",
      "source": [
        "명령 프롬프트 명령어 [인수1 인수2 ...]   \n",
        "파이썬에서는 sys 모듈을 사용하여 매개변수를 직접 줄 수 있다.  \n",
        "sys 모듈을 사용하려면 import 명령어를 사용해야한다."
      ],
      "metadata": {
        "id": "oyjeZQUjjIc9"
      }
    },
    {
      "cell_type": "code",
      "source": [
        "import sys\n",
        "\n",
        "args = sys.argv[1:]\n",
        "for i in args:\n",
        "  print(i)"
      ],
      "metadata": {
        "colab": {
          "base_uri": "https://localhost:8080/"
        },
        "id": "J_jb5JRHjA-t",
        "outputId": "f99ec65b-0ddb-43e1-c4b7-2ff8aa2230fe"
      },
      "execution_count": null,
      "outputs": [
        {
          "output_type": "stream",
          "name": "stdout",
          "text": [
            "-f\n",
            "/root/.local/share/jupyter/runtime/kernel-b383a3dc-ba33-421e-ba57-80a6760a5c3e.json\n"
          ]
        }
      ]
    }
  ]
}