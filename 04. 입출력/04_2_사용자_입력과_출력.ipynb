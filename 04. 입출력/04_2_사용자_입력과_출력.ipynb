{
  "nbformat": 4,
  "nbformat_minor": 0,
  "metadata": {
    "colab": {
      "provenance": [],
      "authorship_tag": "ABX9TyMGjgXPv02m06t3ULioCspl",
      "include_colab_link": true
    },
    "kernelspec": {
      "name": "python3",
      "display_name": "Python 3"
    },
    "language_info": {
      "name": "python"
    }
  },
  "cells": [
    {
      "cell_type": "markdown",
      "metadata": {
        "id": "view-in-github",
        "colab_type": "text"
      },
      "source": [
        "<a href=\"https://colab.research.google.com/github/seo0501/python-study/blob/main/04.%20%EC%9E%85%EC%B6%9C%EB%A0%A5/04_2_%EC%82%AC%EC%9A%A9%EC%9E%90_%EC%9E%85%EB%A0%A5%EA%B3%BC_%EC%B6%9C%EB%A0%A5.ipynb\" target=\"_parent\"><img src=\"https://colab.research.google.com/assets/colab-badge.svg\" alt=\"Open In Colab\"/></a>"
      ]
    },
    {
      "cell_type": "markdown",
      "source": [
        "# 사용자 입력"
      ],
      "metadata": {
        "id": "JmGoKzdkB5Q0"
      }
    },
    {
      "cell_type": "code",
      "execution_count": null,
      "metadata": {
        "colab": {
          "base_uri": "https://localhost:8080/",
          "height": 54
        },
        "id": "oo4eAJJOBu2t",
        "outputId": "35e754e3-2f01-4d69-962a-7544eb1a7f2f"
      },
      "outputs": [
        {
          "name": "stdout",
          "output_type": "stream",
          "text": [
            "Life is too short, you need python\n"
          ]
        },
        {
          "output_type": "execute_result",
          "data": {
            "text/plain": [
              "'Life is too short, you need python'"
            ],
            "application/vnd.google.colaboratory.intrinsic+json": {
              "type": "string"
            }
          },
          "metadata": {},
          "execution_count": 1
        }
      ],
      "source": [
        "# input의 사용\n",
        "a = input()\n",
        "a"
      ]
    },
    {
      "cell_type": "code",
      "source": [
        "number = input(\"숫자를 입력하세요 \")\n",
        "print(number)"
      ],
      "metadata": {
        "id": "R_zlckz8CAxn",
        "colab": {
          "base_uri": "https://localhost:8080/"
        },
        "outputId": "b8b955d0-7b36-4e6a-8a0e-a075513ccc68"
      },
      "execution_count": null,
      "outputs": [
        {
          "output_type": "stream",
          "name": "stdout",
          "text": [
            "숫자를 입력하세요 3\n",
            "3\n"
          ]
        }
      ]
    },
    {
      "cell_type": "markdown",
      "source": [
        "# print 자세히 알기"
      ],
      "metadata": {
        "id": "BWLb2J-NafRv"
      }
    },
    {
      "cell_type": "code",
      "source": [
        "# 숫자 출력하기\n",
        "a = 123\n",
        "print(a)\n",
        "\n",
        "# 문자열 출력하기\n",
        "a = \"Python\"\n",
        "print(a)\n",
        "\n",
        "# 리스트 출력하기\n",
        "a = [1, 2, 3]\n",
        "print(a)"
      ],
      "metadata": {
        "colab": {
          "base_uri": "https://localhost:8080/"
        },
        "id": "6ckpj0WsZLRP",
        "outputId": "4a5db407-9358-45f0-9fb7-c34da8d3c8b7"
      },
      "execution_count": null,
      "outputs": [
        {
          "output_type": "stream",
          "name": "stdout",
          "text": [
            "123\n",
            "Python\n",
            "[1, 2, 3]\n"
          ]
        }
      ]
    },
    {
      "cell_type": "code",
      "source": [
        "# 큰따옴표로 둘러싸인 문자열은 + 연산과 동일하다\n",
        "print(\"life\" \"is\" \"too short\")\n",
        "print(\"life\"+\"is\"+\"too short\")"
      ],
      "metadata": {
        "colab": {
          "base_uri": "https://localhost:8080/"
        },
        "id": "j6vXP9_8Zhk4",
        "outputId": "23d1b281-5d1e-42af-b785-948be09584a6"
      },
      "execution_count": null,
      "outputs": [
        {
          "output_type": "stream",
          "name": "stdout",
          "text": [
            "lifeistoo short\n",
            "lifeistoo short\n"
          ]
        }
      ]
    },
    {
      "cell_type": "code",
      "source": [
        "# 문자열 띄어쓰기는 콤마로 한다\n",
        "print(\"life\",\"is\",\"too short\")"
      ],
      "metadata": {
        "colab": {
          "base_uri": "https://localhost:8080/"
        },
        "id": "WOAf6YybZ2pw",
        "outputId": "c8d7409b-2043-4cc2-ddf4-99f5ba1e0773"
      },
      "execution_count": null,
      "outputs": [
        {
          "output_type": "stream",
          "name": "stdout",
          "text": [
            "life is too short\n"
          ]
        }
      ]
    },
    {
      "cell_type": "code",
      "source": [
        "# 한 줄에 결괏값 출력하기\n",
        "for i in range(10):\n",
        "  print(i, end=' ')"
      ],
      "metadata": {
        "colab": {
          "base_uri": "https://localhost:8080/"
        },
        "id": "E6tomAnVZ9Iw",
        "outputId": "ff51114f-8da7-4c04-d6b0-ca97f817feff"
      },
      "execution_count": null,
      "outputs": [
        {
          "output_type": "stream",
          "name": "stdout",
          "text": [
            "0 1 2 3 4 5 6 7 8 9 "
          ]
        }
      ]
    }
  ]
}