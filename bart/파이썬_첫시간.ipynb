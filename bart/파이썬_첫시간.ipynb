{
  "nbformat": 4,
  "nbformat_minor": 0,
  "metadata": {
    "colab": {
      "provenance": [],
      "authorship_tag": "ABX9TyPeprtJ4Nk8eygJ01KB2hx0",
      "include_colab_link": true
    },
    "kernelspec": {
      "name": "python3",
      "display_name": "Python 3"
    },
    "language_info": {
      "name": "python"
    }
  },
  "cells": [
    {
      "cell_type": "markdown",
      "metadata": {
        "id": "view-in-github",
        "colab_type": "text"
      },
      "source": [
        "<a href=\"https://colab.research.google.com/github/seo0501/python-study/blob/main/bart/%ED%8C%8C%EC%9D%B4%EC%8D%AC_%EC%B2%AB%EC%8B%9C%EA%B0%84.ipynb\" target=\"_parent\"><img src=\"https://colab.research.google.com/assets/colab-badge.svg\" alt=\"Open In Colab\"/></a>"
      ]
    },
    {
      "cell_type": "code",
      "execution_count": 2,
      "metadata": {
        "id": "w_2mNraPQrsy",
        "colab": {
          "base_uri": "https://localhost:8080/"
        },
        "outputId": "4986b34e-488c-4450-c5e7-7194618b12d9"
      },
      "outputs": [
        {
          "output_type": "stream",
          "name": "stdout",
          "text": [
            "579\n",
            "15129\n"
          ]
        }
      ],
      "source": [
        "a = 123\n",
        "b = 456\n",
        "print(a+b)\n",
        "print(a**2)"
      ]
    },
    {
      "cell_type": "code",
      "source": [],
      "metadata": {
        "id": "aFsqG-BzUwM6"
      },
      "execution_count": null,
      "outputs": []
    },
    {
      "cell_type": "markdown",
      "source": [
        "#제목1"
      ],
      "metadata": {
        "id": "0C4dc1GNUFQs"
      }
    },
    {
      "cell_type": "markdown",
      "source": [
        "##제목2"
      ],
      "metadata": {
        "id": "w3fBDyhmURri"
      }
    },
    {
      "cell_type": "code",
      "source": [],
      "metadata": {
        "id": "THQgO2kfUUdx"
      },
      "execution_count": null,
      "outputs": []
    }
  ]
}