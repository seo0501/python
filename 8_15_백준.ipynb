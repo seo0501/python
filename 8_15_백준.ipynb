{
  "nbformat": 4,
  "nbformat_minor": 0,
  "metadata": {
    "colab": {
      "provenance": [],
      "authorship_tag": "ABX9TyOYDlVjUaDM4WIpZIs7Azan",
      "include_colab_link": true
    },
    "kernelspec": {
      "name": "python3",
      "display_name": "Python 3"
    },
    "language_info": {
      "name": "python"
    }
  },
  "cells": [
    {
      "cell_type": "markdown",
      "metadata": {
        "id": "view-in-github",
        "colab_type": "text"
      },
      "source": [
        "<a href=\"https://colab.research.google.com/github/seo0501/python-study/blob/main/8_15_%EB%B0%B1%EC%A4%80.ipynb\" target=\"_parent\"><img src=\"https://colab.research.google.com/assets/colab-badge.svg\" alt=\"Open In Colab\"/></a>"
      ]
    },
    {
      "cell_type": "code",
      "execution_count": null,
      "metadata": {
        "id": "wYD2EsKrkPxs"
      },
      "outputs": [],
      "source": [
        "# 4673 셀프넘버\n",
        "import sys\n",
        "input = sys.stdin.readline\n",
        "\n",
        "Set = set(range(1, 10001))\n",
        "not_self = set()\n",
        "\n",
        "for i in range(1, 10001):\n",
        "    k = i\n",
        "    while i:\n",
        "        k += i % 10\n",
        "        i = i // 10\n",
        "    not_self.add(k)\n",
        "\n",
        "self_num = sorted(Set - not_self)\n",
        "\n",
        "for i in self_num:\n",
        "    print(i)"
      ]
    },
    {
      "cell_type": "code",
      "source": [
        "# 4779 칸토어 집합\n",
        "import sys\n",
        "input = sys.stdin.readline\n",
        "\n",
        "def Cantor(N):\n",
        "    num = 3 ** (N-1)\n",
        "    if N == 0:\n",
        "        return '-'\n",
        "    elif N == 1:\n",
        "        return '- -'\n",
        "    else:\n",
        "        result = '-'*(3**N)\n",
        "        return Cantor(N-1) + ' '*num + Cantor(N-1)\n",
        "\n",
        "while True:\n",
        "    try:\n",
        "        N = int(input())\n",
        "        print(Cantor(N))\n",
        "    except:\n",
        "        break"
      ],
      "metadata": {
        "id": "DwkA0gY6kZyi"
      },
      "execution_count": null,
      "outputs": []
    },
    {
      "cell_type": "code",
      "source": [
        "# 10845 큐\n",
        "import sys\n",
        "input = sys.stdin.readline\n",
        "\n",
        "N = int(input())\n",
        "A = []\n",
        "for _ in range(N):\n",
        "    S = list(input().split())\n",
        "\n",
        "    if S[0] == 'push':\n",
        "        A.append(S[1])\n",
        "    elif S[0] == 'pop':\n",
        "        if len(A) == 0:\n",
        "            print(-1)\n",
        "        else:\n",
        "            print(A[0])\n",
        "            A.remove(A[0])\n",
        "    elif S[0] == 'size':\n",
        "        print(len(A))\n",
        "    elif S[0] == 'empty':\n",
        "        if len(A) == 0:\n",
        "            print(1)\n",
        "        else:\n",
        "            print(0)\n",
        "    elif S[0] == 'front':\n",
        "        if len(A) == 0:\n",
        "            print(-1)\n",
        "        else:\n",
        "            print(A[0])\n",
        "    elif S[0] == 'back':\n",
        "        if len(A) == 0:\n",
        "            print(-1)\n",
        "        else:\n",
        "            print(A[-1])"
      ],
      "metadata": {
        "id": "GuDEy1mgkgfR"
      },
      "execution_count": null,
      "outputs": []
    },
    {
      "cell_type": "code",
      "source": [
        "# 11866 요세푸스 문제 0\n",
        "import sys\n",
        "input = sys.stdin.readline\n",
        "\n",
        "N, K = map(int, input().split())\n",
        "a = list(range(N+1))\n",
        "b = a[1:]\n",
        "\n",
        "result = []\n",
        "for i in range(1, N):\n",
        "    if i*K >= len(a):\n",
        "        if len(a) + len(b) <= i*K:\n",
        "            j = 2\n",
        "            while len(a) + len(b)*j <= i*K:\n",
        "                j += 1\n",
        "            a = a + b*j\n",
        "        else:\n",
        "            a = a + b\n",
        "    result.append(a[i*K])\n",
        "    b.remove(a[i*K])\n",
        "\n",
        "result.append(b[0])\n",
        "\n",
        "print('<'+', '.join(map(str, result))+'>')"
      ],
      "metadata": {
        "id": "c4vQVj49klgs"
      },
      "execution_count": null,
      "outputs": []
    },
    {
      "cell_type": "code",
      "source": [
        "# 4948 베르트랑 공준\n",
        "import sys\n",
        "input = sys.stdin.readline\n",
        "\n",
        "\n",
        "primelist = [2, 3]\n",
        "\n",
        "for N in range(3, 123456*2, 2):\n",
        "    for i in range(2, int(N**0.5)+1):\n",
        "        if N % i == 0:\n",
        "            break\n",
        "        if i == int(N**0.5):\n",
        "            primelist.append(N)\n",
        "\n",
        "while True:\n",
        "    n = int(input())\n",
        "    if n == 0:\n",
        "        break\n",
        "    elif n == 1:\n",
        "        print(1)\n",
        "        continue\n",
        "    result = set(primelist) & set(range(n+1, 2*n))\n",
        "    print(len(result))"
      ],
      "metadata": {
        "id": "_GHVQYVNkv91"
      },
      "execution_count": null,
      "outputs": []
    }
  ]
}